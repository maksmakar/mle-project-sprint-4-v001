{
 "cells": [
  {
   "cell_type": "markdown",
   "id": "f4095ae4-7294-4b28-853e-88d235002c97",
   "metadata": {},
   "source": [
    "# Инициализация"
   ]
  },
  {
   "cell_type": "markdown",
   "id": "2f2318d2-9df8-4911-915e-15b725c44f8a",
   "metadata": {},
   "source": [
    "Загружаем библиотеки необходимые для выполнения кода ноутбука."
   ]
  },
  {
   "cell_type": "code",
   "execution_count": 1,
   "id": "662d04e7-1b0b-4e4a-9ddf-4526d7fef119",
   "metadata": {},
   "outputs": [
    {
     "name": "stderr",
     "output_type": "stream",
     "text": [
      "/home/mle-user/mle-project-sprint-4-v001/env_recsys_start/lib/python3.10/site-packages/tqdm/auto.py:21: TqdmWarning: IProgress not found. Please update jupyter and ipywidgets. See https://ipywidgets.readthedocs.io/en/stable/user_install.html\n",
      "  from .autonotebook import tqdm as notebook_tqdm\n"
     ]
    }
   ],
   "source": [
    "import matplotlib.pyplot as plt\n",
    "import numpy as np\n",
    "import pandas as pd\n",
    "import scipy\n",
    "from sklearn.preprocessing import LabelEncoder\n",
    "from implicit.als import AlternatingLeastSquares\n",
    "from catboost import CatBoostClassifier, Pool\n",
    "import boto3\n",
    "import os\n",
    "from dotenv import load_dotenv\n",
    "import seaborn as sns"
   ]
  },
  {
   "cell_type": "code",
   "execution_count": 2,
   "id": "7beac256",
   "metadata": {},
   "outputs": [],
   "source": [
    "%matplotlib inline\n",
    "%config InlineBackend.figure_format = 'png'\n",
    "%config InlineBackend.figure_format = 'retina'"
   ]
  },
  {
   "cell_type": "markdown",
   "id": "bf80fbc5-b660-4fac-8fbb-a5cae77313b3",
   "metadata": {},
   "source": [
    "# === ЭТАП 1 ==="
   ]
  },
  {
   "cell_type": "markdown",
   "id": "5263a8b3-fe99-4204-8a2e-105182792c11",
   "metadata": {},
   "source": [
    "# Загрузка первичных данных"
   ]
  },
  {
   "cell_type": "markdown",
   "id": "1b54a6a5-1656-4e3c-99d1-49dc39451d33",
   "metadata": {},
   "source": [
    "Загружаем первичные данные из файлов:\n",
    "- tracks.parquet\n",
    "- catalog_names.parquet\n",
    "- interactions.parquet"
   ]
  },
  {
   "cell_type": "code",
   "execution_count": 3,
   "id": "5d4b8961-3f35-4e58-9d6b-3e2dbd2c4224",
   "metadata": {},
   "outputs": [],
   "source": [
    "tracks = pd.read_parquet('tracks.parquet')\n",
    "catalog_names = pd.read_parquet('catalog_names.parquet')\n",
    "interactions = pd.read_parquet('interactions.parquet')"
   ]
  },
  {
   "cell_type": "markdown",
   "id": "1f801122",
   "metadata": {},
   "source": [
    "# Обзор данных"
   ]
  },
  {
   "cell_type": "markdown",
   "id": "0871abc7",
   "metadata": {},
   "source": [
    "Проверяем данные, есть ли с ними явные проблемы."
   ]
  },
  {
   "cell_type": "code",
   "execution_count": 4,
   "id": "70f7bdfe-175c-45c1-a2e9-d99f0f33be2e",
   "metadata": {},
   "outputs": [
    {
     "name": "stdout",
     "output_type": "stream",
     "text": [
      "<class 'pandas.core.frame.DataFrame'>\n",
      "RangeIndex: 1000000 entries, 0 to 999999\n",
      "Data columns (total 4 columns):\n",
      " #   Column    Non-Null Count    Dtype \n",
      "---  ------    --------------    ----- \n",
      " 0   track_id  1000000 non-null  int64 \n",
      " 1   albums    1000000 non-null  object\n",
      " 2   artists   1000000 non-null  object\n",
      " 3   genres    1000000 non-null  object\n",
      "dtypes: int64(1), object(3)\n",
      "memory usage: 30.5+ MB\n"
     ]
    }
   ],
   "source": [
    "tracks.info()"
   ]
  },
  {
   "cell_type": "code",
   "execution_count": 5,
   "id": "81ebc16a",
   "metadata": {},
   "outputs": [
    {
     "data": {
      "text/html": [
       "<div>\n",
       "<style scoped>\n",
       "    .dataframe tbody tr th:only-of-type {\n",
       "        vertical-align: middle;\n",
       "    }\n",
       "\n",
       "    .dataframe tbody tr th {\n",
       "        vertical-align: top;\n",
       "    }\n",
       "\n",
       "    .dataframe thead th {\n",
       "        text-align: right;\n",
       "    }\n",
       "</style>\n",
       "<table border=\"1\" class=\"dataframe\">\n",
       "  <thead>\n",
       "    <tr style=\"text-align: right;\">\n",
       "      <th></th>\n",
       "      <th>track_id</th>\n",
       "      <th>albums</th>\n",
       "      <th>artists</th>\n",
       "      <th>genres</th>\n",
       "    </tr>\n",
       "  </thead>\n",
       "  <tbody>\n",
       "    <tr>\n",
       "      <th>0</th>\n",
       "      <td>26</td>\n",
       "      <td>[3, 2490753]</td>\n",
       "      <td>[16]</td>\n",
       "      <td>[11, 21]</td>\n",
       "    </tr>\n",
       "    <tr>\n",
       "      <th>1</th>\n",
       "      <td>38</td>\n",
       "      <td>[3, 2490753]</td>\n",
       "      <td>[16]</td>\n",
       "      <td>[11, 21]</td>\n",
       "    </tr>\n",
       "  </tbody>\n",
       "</table>\n",
       "</div>"
      ],
      "text/plain": [
       "   track_id        albums artists    genres\n",
       "0        26  [3, 2490753]    [16]  [11, 21]\n",
       "1        38  [3, 2490753]    [16]  [11, 21]"
      ]
     },
     "execution_count": 5,
     "metadata": {},
     "output_type": "execute_result"
    }
   ],
   "source": [
    "tracks.head(2)"
   ]
  },
  {
   "cell_type": "code",
   "execution_count": 6,
   "id": "7e9496ff",
   "metadata": {},
   "outputs": [],
   "source": [
    "# Преобразуем списки в кортежи\n",
    "tracks['albums'] = tracks['albums'].apply(tuple)\n",
    "tracks['artists'] = tracks['artists'].apply(tuple)\n",
    "tracks['genres'] = tracks['genres'].apply(tuple)"
   ]
  },
  {
   "cell_type": "code",
   "execution_count": 7,
   "id": "d579db39",
   "metadata": {},
   "outputs": [
    {
     "name": "stdout",
     "output_type": "stream",
     "text": [
      "<class 'pandas.core.frame.DataFrame'>\n",
      "RangeIndex: 1812471 entries, 0 to 1812470\n",
      "Data columns (total 3 columns):\n",
      " #   Column  Dtype \n",
      "---  ------  ----- \n",
      " 0   id      int64 \n",
      " 1   type    object\n",
      " 2   name    object\n",
      "dtypes: int64(1), object(2)\n",
      "memory usage: 41.5+ MB\n"
     ]
    }
   ],
   "source": [
    "catalog_names.info()"
   ]
  },
  {
   "cell_type": "code",
   "execution_count": 8,
   "id": "1805d1e7",
   "metadata": {},
   "outputs": [
    {
     "data": {
      "text/html": [
       "<div>\n",
       "<style scoped>\n",
       "    .dataframe tbody tr th:only-of-type {\n",
       "        vertical-align: middle;\n",
       "    }\n",
       "\n",
       "    .dataframe tbody tr th {\n",
       "        vertical-align: top;\n",
       "    }\n",
       "\n",
       "    .dataframe thead th {\n",
       "        text-align: right;\n",
       "    }\n",
       "</style>\n",
       "<table border=\"1\" class=\"dataframe\">\n",
       "  <thead>\n",
       "    <tr style=\"text-align: right;\">\n",
       "      <th></th>\n",
       "      <th>id</th>\n",
       "      <th>type</th>\n",
       "      <th>name</th>\n",
       "    </tr>\n",
       "  </thead>\n",
       "  <tbody>\n",
       "    <tr>\n",
       "      <th>0</th>\n",
       "      <td>3</td>\n",
       "      <td>album</td>\n",
       "      <td>Taller Children</td>\n",
       "    </tr>\n",
       "    <tr>\n",
       "      <th>1</th>\n",
       "      <td>12</td>\n",
       "      <td>album</td>\n",
       "      <td>Wild Young Hearts</td>\n",
       "    </tr>\n",
       "    <tr>\n",
       "      <th>2</th>\n",
       "      <td>13</td>\n",
       "      <td>album</td>\n",
       "      <td>Lonesome Crow</td>\n",
       "    </tr>\n",
       "    <tr>\n",
       "      <th>3</th>\n",
       "      <td>17</td>\n",
       "      <td>album</td>\n",
       "      <td>Graffiti Soul</td>\n",
       "    </tr>\n",
       "    <tr>\n",
       "      <th>4</th>\n",
       "      <td>26</td>\n",
       "      <td>album</td>\n",
       "      <td>Blues Six Pack</td>\n",
       "    </tr>\n",
       "  </tbody>\n",
       "</table>\n",
       "</div>"
      ],
      "text/plain": [
       "   id   type               name\n",
       "0   3  album    Taller Children\n",
       "1  12  album  Wild Young Hearts\n",
       "2  13  album      Lonesome Crow\n",
       "3  17  album      Graffiti Soul\n",
       "4  26  album     Blues Six Pack"
      ]
     },
     "execution_count": 8,
     "metadata": {},
     "output_type": "execute_result"
    }
   ],
   "source": [
    "catalog_names.head()"
   ]
  },
  {
   "cell_type": "code",
   "execution_count": 9,
   "id": "9ad3ca1f",
   "metadata": {},
   "outputs": [
    {
     "data": {
      "text/plain": [
       "type\n",
       "track     1000000\n",
       "album      658724\n",
       "artist     153581\n",
       "genre         166\n",
       "Name: count, dtype: int64"
      ]
     },
     "execution_count": 9,
     "metadata": {},
     "output_type": "execute_result"
    }
   ],
   "source": [
    "catalog_names.type.value_counts()"
   ]
  },
  {
   "cell_type": "code",
   "execution_count": 10,
   "id": "69737175",
   "metadata": {},
   "outputs": [
    {
     "name": "stdout",
     "output_type": "stream",
     "text": [
      "<class 'pandas.core.frame.DataFrame'>\n",
      "Index: 222629898 entries, 0 to 291\n",
      "Data columns (total 4 columns):\n",
      " #   Column      Dtype         \n",
      "---  ------      -----         \n",
      " 0   user_id     int32         \n",
      " 1   track_id    int32         \n",
      " 2   track_seq   int16         \n",
      " 3   started_at  datetime64[ns]\n",
      "dtypes: datetime64[ns](1), int16(1), int32(2)\n",
      "memory usage: 5.4 GB\n"
     ]
    }
   ],
   "source": [
    "interactions.info()"
   ]
  },
  {
   "cell_type": "code",
   "execution_count": 11,
   "id": "e06b4936",
   "metadata": {},
   "outputs": [
    {
     "name": "stdout",
     "output_type": "stream",
     "text": [
      "Дубликаты в tracks: 0\n",
      "Дубликаты в catalog_names: 0\n"
     ]
    }
   ],
   "source": [
    "# Проверка дубликатов\n",
    "print(f\"Дубликаты в tracks: {tracks.duplicated().sum()}\")\n",
    "print(f\"Дубликаты в catalog_names: {catalog_names.duplicated().sum()}\")\n",
    "# print(f\"Дубликаты в interactions: {interactions.duplicated().sum()}\")"
   ]
  },
  {
   "cell_type": "code",
   "execution_count": 12,
   "id": "13e1206d",
   "metadata": {},
   "outputs": [
    {
     "name": "stdout",
     "output_type": "stream",
     "text": [
      "Пустые в tracks: track_id    0\n",
      "albums      0\n",
      "artists     0\n",
      "genres      0\n",
      "dtype: int64\n",
      "Пустые в catalog_names: id      0\n",
      "type    0\n",
      "name    0\n",
      "dtype: int64\n"
     ]
    }
   ],
   "source": [
    "# Проверка пустых\n",
    "print(f\"Пустые в tracks: {tracks.isna().sum()}\")\n",
    "print(f\"Пустые в catalog_names: {catalog_names.isna().sum()}\")"
   ]
  },
  {
   "cell_type": "markdown",
   "id": "a70e4386",
   "metadata": {},
   "source": [
    "Приведём выводы по первому знакомству с данными:\n",
    "\n",
    "- есть ли с данными явные проблемы\n",
    "- какие корректирующие действия (в целом) были предприняты"
   ]
  },
  {
   "cell_type": "markdown",
   "id": "2e6137bf",
   "metadata": {},
   "source": [
    "С данными проблем нет. Все типы правильные, пропуски отсутствуют"
   ]
  },
  {
   "cell_type": "markdown",
   "id": "7bc3296b-eba6-4333-a78d-b9304aa87e3d",
   "metadata": {},
   "source": [
    "# === ЭТАП 2 ==="
   ]
  },
  {
   "cell_type": "markdown",
   "id": "68e73960-fd38-4e15-8db0-9a25c35dfd25",
   "metadata": {},
   "source": [
    "# EDA"
   ]
  },
  {
   "cell_type": "markdown",
   "id": "a30e823e-8e0f-4a76-a02e-8d1ba8bf0f8a",
   "metadata": {},
   "source": [
    "Распределение количества прослушанных треков."
   ]
  },
  {
   "cell_type": "code",
   "execution_count": 13,
   "id": "9bf5eaba-35f7-4da7-be59-9ab4a34b2423",
   "metadata": {},
   "outputs": [
    {
     "data": {
      "image/png": "[encoded data removed]",
      "text/plain": [
       "<Figure size 1000x600 with 1 Axes>"
      ]
     },
     "metadata": {
      "image/png": {
       "height": 547,
       "width": 877
      }
     },
     "output_type": "display_data"
    }
   ],
   "source": [
    "# Группировка по track_id для подсчета количества прослушиваний\n",
    "track_listen_counts = interactions.groupby('track_id').size().reset_index(name='listen_count')\n",
    "\n",
    "# Визуализация распределения\n",
    "plt.figure(figsize=(10, 6))\n",
    "sns.histplot(track_listen_counts['listen_count'], bins=50, log_scale=True)\n",
    "plt.title('Распределение количества прослушиваний треков')\n",
    "plt.xlabel('Количество прослушиваний')\n",
    "plt.ylabel('Частота')\n",
    "plt.show()"
   ]
  },
  {
   "cell_type": "markdown",
   "id": "d765519a-18dd-4d30-9e29-cc2d84cacd79",
   "metadata": {},
   "source": [
    "Наиболее популярные треки"
   ]
  },
  {
   "cell_type": "code",
   "execution_count": 14,
   "id": "aecaf630-fde0-4860-b84a-42c933a9606e",
   "metadata": {},
   "outputs": [
    {
     "data": {
      "text/html": [
       "<div>\n",
       "<style scoped>\n",
       "    .dataframe tbody tr th:only-of-type {\n",
       "        vertical-align: middle;\n",
       "    }\n",
       "\n",
       "    .dataframe tbody tr th {\n",
       "        vertical-align: top;\n",
       "    }\n",
       "\n",
       "    .dataframe thead th {\n",
       "        text-align: right;\n",
       "    }\n",
       "</style>\n",
       "<table border=\"1\" class=\"dataframe\">\n",
       "  <thead>\n",
       "    <tr style=\"text-align: right;\">\n",
       "      <th></th>\n",
       "      <th>track_id</th>\n",
       "      <th>name</th>\n",
       "      <th>listen_count</th>\n",
       "    </tr>\n",
       "  </thead>\n",
       "  <tbody>\n",
       "    <tr>\n",
       "      <th>9098</th>\n",
       "      <td>53404</td>\n",
       "      <td>Smells Like Teen Spirit</td>\n",
       "      <td>111062</td>\n",
       "    </tr>\n",
       "    <tr>\n",
       "      <th>483876</th>\n",
       "      <td>33311009</td>\n",
       "      <td>Believer</td>\n",
       "      <td>106921</td>\n",
       "    </tr>\n",
       "    <tr>\n",
       "      <th>26665</th>\n",
       "      <td>178529</td>\n",
       "      <td>Numb</td>\n",
       "      <td>101924</td>\n",
       "    </tr>\n",
       "    <tr>\n",
       "      <th>512157</th>\n",
       "      <td>35505245</td>\n",
       "      <td>I Got Love</td>\n",
       "      <td>99490</td>\n",
       "    </tr>\n",
       "    <tr>\n",
       "      <th>829320</th>\n",
       "      <td>65851540</td>\n",
       "      <td>Юность</td>\n",
       "      <td>86670</td>\n",
       "    </tr>\n",
       "    <tr>\n",
       "      <th>368072</th>\n",
       "      <td>24692821</td>\n",
       "      <td>Way Down We Go</td>\n",
       "      <td>86246</td>\n",
       "    </tr>\n",
       "    <tr>\n",
       "      <th>475289</th>\n",
       "      <td>32947997</td>\n",
       "      <td>Shape of You</td>\n",
       "      <td>85886</td>\n",
       "    </tr>\n",
       "    <tr>\n",
       "      <th>696106</th>\n",
       "      <td>51241318</td>\n",
       "      <td>In The End</td>\n",
       "      <td>85244</td>\n",
       "    </tr>\n",
       "    <tr>\n",
       "      <th>90461</th>\n",
       "      <td>795836</td>\n",
       "      <td>Shape Of My Heart</td>\n",
       "      <td>85042</td>\n",
       "    </tr>\n",
       "    <tr>\n",
       "      <th>647237</th>\n",
       "      <td>45499814</td>\n",
       "      <td>Life</td>\n",
       "      <td>84748</td>\n",
       "    </tr>\n",
       "  </tbody>\n",
       "</table>\n",
       "</div>"
      ],
      "text/plain": [
       "        track_id                     name  listen_count\n",
       "9098       53404  Smells Like Teen Spirit        111062\n",
       "483876  33311009                 Believer        106921\n",
       "26665     178529                     Numb        101924\n",
       "512157  35505245               I Got Love         99490\n",
       "829320  65851540                   Юность         86670\n",
       "368072  24692821           Way Down We Go         86246\n",
       "475289  32947997             Shape of You         85886\n",
       "696106  51241318               In The End         85244\n",
       "90461     795836        Shape Of My Heart         85042\n",
       "647237  45499814                     Life         84748"
      ]
     },
     "execution_count": 14,
     "metadata": {},
     "output_type": "execute_result"
    }
   ],
   "source": [
    "# Объединяем данные о треках и количестве прослушиваний\n",
    "tracks_with_listen_counts = tracks.merge(\n",
    "    track_listen_counts,\n",
    "    left_on='track_id',\n",
    "    right_on='track_id',\n",
    "    how='left'\n",
    ")\n",
    "\n",
    "# Добавляем названия треков из catalog_names\n",
    "tracks_with_names = tracks_with_listen_counts.merge(\n",
    "    catalog_names[catalog_names['type'] == 'track'],\n",
    "    left_on='track_id',\n",
    "    right_on='id',\n",
    "    how='left'\n",
    ")\n",
    "\n",
    "# Топ-10 самых популярных треков\n",
    "top_tracks = tracks_with_names.sort_values(by='listen_count', ascending=False).head(10)\n",
    "top_tracks[['track_id', 'name', 'listen_count']]"
   ]
  },
  {
   "cell_type": "code",
   "execution_count": 15,
   "id": "6c17b3f3",
   "metadata": {},
   "outputs": [
    {
     "data": {
      "image/png": "[encoded data removed]",
      "text/plain": [
       "<Figure size 1000x600 with 1 Axes>"
      ]
     },
     "metadata": {
      "image/png": {
       "height": 546,
       "width": 979
      }
     },
     "output_type": "display_data"
    }
   ],
   "source": [
    "plt.figure(figsize=(10, 6))\n",
    "sns.barplot(data=top_tracks, x='listen_count', y='name', orient='h')\n",
    "plt.title('Топ-10 самых популярных треков')\n",
    "plt.xlabel('Количество прослушиваний')\n",
    "plt.ylabel('Название трека')\n",
    "plt.show()"
   ]
  },
  {
   "cell_type": "markdown",
   "id": "b1c32a5a-d3be-4f96-8dd9-f7860951020c",
   "metadata": {},
   "source": [
    "Наиболее популярные жанры"
   ]
  },
  {
   "cell_type": "code",
   "execution_count": 16,
   "id": "1bc50491-9235-4d3c-a6c2-297f7c05a959",
   "metadata": {},
   "outputs": [
    {
     "data": {
      "text/html": [
       "<div>\n",
       "<style scoped>\n",
       "    .dataframe tbody tr th:only-of-type {\n",
       "        vertical-align: middle;\n",
       "    }\n",
       "\n",
       "    .dataframe tbody tr th {\n",
       "        vertical-align: top;\n",
       "    }\n",
       "\n",
       "    .dataframe thead th {\n",
       "        text-align: right;\n",
       "    }\n",
       "</style>\n",
       "<table border=\"1\" class=\"dataframe\">\n",
       "  <thead>\n",
       "    <tr style=\"text-align: right;\">\n",
       "      <th></th>\n",
       "      <th>genres</th>\n",
       "      <th>name</th>\n",
       "      <th>listen_count</th>\n",
       "    </tr>\n",
       "  </thead>\n",
       "  <tbody>\n",
       "    <tr>\n",
       "      <th>10</th>\n",
       "      <td>11</td>\n",
       "      <td>pop</td>\n",
       "      <td>55578312</td>\n",
       "    </tr>\n",
       "    <tr>\n",
       "      <th>70</th>\n",
       "      <td>75</td>\n",
       "      <td>rap</td>\n",
       "      <td>37799821</td>\n",
       "    </tr>\n",
       "    <tr>\n",
       "      <th>95</th>\n",
       "      <td>102</td>\n",
       "      <td>allrock</td>\n",
       "      <td>31092013</td>\n",
       "    </tr>\n",
       "    <tr>\n",
       "      <th>19</th>\n",
       "      <td>20</td>\n",
       "      <td>ruspop</td>\n",
       "      <td>26626241</td>\n",
       "    </tr>\n",
       "    <tr>\n",
       "      <th>2</th>\n",
       "      <td>3</td>\n",
       "      <td>rusrap</td>\n",
       "      <td>25303695</td>\n",
       "    </tr>\n",
       "    <tr>\n",
       "      <th>63</th>\n",
       "      <td>68</td>\n",
       "      <td>electronics</td>\n",
       "      <td>20120981</td>\n",
       "    </tr>\n",
       "    <tr>\n",
       "      <th>15</th>\n",
       "      <td>16</td>\n",
       "      <td>dance</td>\n",
       "      <td>16291557</td>\n",
       "    </tr>\n",
       "    <tr>\n",
       "      <th>1</th>\n",
       "      <td>2</td>\n",
       "      <td>rusrock</td>\n",
       "      <td>13166147</td>\n",
       "    </tr>\n",
       "    <tr>\n",
       "      <th>13</th>\n",
       "      <td>14</td>\n",
       "      <td>rock</td>\n",
       "      <td>12772644</td>\n",
       "    </tr>\n",
       "    <tr>\n",
       "      <th>42</th>\n",
       "      <td>47</td>\n",
       "      <td>metal</td>\n",
       "      <td>12437375</td>\n",
       "    </tr>\n",
       "  </tbody>\n",
       "</table>\n",
       "</div>"
      ],
      "text/plain": [
       "    genres         name  listen_count\n",
       "10      11          pop      55578312\n",
       "70      75          rap      37799821\n",
       "95     102      allrock      31092013\n",
       "19      20       ruspop      26626241\n",
       "2        3       rusrap      25303695\n",
       "63      68  electronics      20120981\n",
       "15      16        dance      16291557\n",
       "1        2      rusrock      13166147\n",
       "13      14         rock      12772644\n",
       "42      47        metal      12437375"
      ]
     },
     "execution_count": 16,
     "metadata": {},
     "output_type": "execute_result"
    }
   ],
   "source": [
    "# Разворачиваем список жанров для каждого трека\n",
    "tracks_exploded = tracks.explode('genres')\n",
    "\n",
    "# Объединяем с данными о прослушиваниях\n",
    "tracks_with_genres = tracks_exploded.merge(\n",
    "    track_listen_counts,\n",
    "    left_on='track_id',\n",
    "    right_on='track_id',\n",
    "    how='left'\n",
    ")\n",
    "\n",
    "# Группируем по жанрам и суммируем количество прослушиваний\n",
    "genre_popularity = tracks_with_genres.groupby('genres')['listen_count'].sum().reset_index()\n",
    "\n",
    "# Добавляем названия жанров из catalog_names\n",
    "genre_popularity_with_names = genre_popularity.merge(\n",
    "    catalog_names[catalog_names['type'] == 'genre'],\n",
    "    left_on='genres',\n",
    "    right_on='id',\n",
    "    how='left'\n",
    ")\n",
    "\n",
    "# Топ-10 самых популярных жанров\n",
    "top_genres = genre_popularity_with_names.sort_values(by='listen_count', ascending=False).head(10)\n",
    "top_genres[['genres', 'name', 'listen_count']]"
   ]
  },
  {
   "cell_type": "code",
   "execution_count": 17,
   "id": "df9c5f78",
   "metadata": {},
   "outputs": [
    {
     "data": {
      "image/png": "[encoded data removed]",
      "text/plain": [
       "<Figure size 1000x600 with 1 Axes>"
      ]
     },
     "metadata": {
      "image/png": {
       "height": 546,
       "width": 899
      }
     },
     "output_type": "display_data"
    }
   ],
   "source": [
    "plt.figure(figsize=(10, 6))\n",
    "sns.barplot(data=top_genres, x='listen_count', y='name')\n",
    "plt.title('Топ-10 самых популярных жанров')\n",
    "plt.xlabel('Количество прослушиваний')\n",
    "plt.ylabel('Название жанра')\n",
    "# Форматирование оси X\n",
    "plt.ticklabel_format(style='plain', axis='x')  # Отключаем научную нотацию\n",
    "plt.show()"
   ]
  },
  {
   "cell_type": "markdown",
   "id": "15254e66-e80e-473b-ba24-abebea5ccac7",
   "metadata": {},
   "source": [
    "Треки, которые никто не прослушал"
   ]
  },
  {
   "cell_type": "code",
   "execution_count": 18,
   "id": "50bc50c6-2d83-4c7e-97fa-3e7627978438",
   "metadata": {},
   "outputs": [
    {
     "name": "stdout",
     "output_type": "stream",
     "text": [
      "Количество непрослушанных треков: 0\n"
     ]
    }
   ],
   "source": [
    "# Треки, которые не были прослушаны\n",
    "unlistened_tracks = tracks[~tracks['track_id'].isin(interactions['track_id'])]\n",
    "\n",
    "# Добавляем названия треков из catalog_names\n",
    "unlistened_tracks_with_names = unlistened_tracks.merge(\n",
    "    catalog_names[catalog_names['type'] == 'track'],\n",
    "    left_on='track_id',\n",
    "    right_on='id',\n",
    "    how='left'\n",
    ")\n",
    "\n",
    "print(f\"Количество непрослушанных треков: {len(unlistened_tracks_with_names)}\")"
   ]
  },
  {
   "cell_type": "markdown",
   "id": "0d850a07-ef1e-462f-891a-1cf89f2e24ef",
   "metadata": {},
   "source": [
    "# Преобразование данных"
   ]
  },
  {
   "cell_type": "markdown",
   "id": "fabcf8d2-1192-4df5-b20b-fbb84689f57a",
   "metadata": {},
   "source": [
    "Преобразуем данные в формат, более пригодный для дальнейшего использования в расчётах рекомендаций."
   ]
  },
  {
   "cell_type": "code",
   "execution_count": 19,
   "id": "a425556a-9382-45ca-a04e-f1981a522126",
   "metadata": {},
   "outputs": [],
   "source": [
    "# добавим названия треков\n",
    "tracks = catalog_names.query(\"type == 'track'\").rename(columns={\"id\": \"track_id\"}).merge(tracks, on=\"track_id\", how='right').drop(columns=\"type\")"
   ]
  },
  {
   "cell_type": "code",
   "execution_count": 20,
   "id": "9e252305",
   "metadata": {},
   "outputs": [],
   "source": [
    "items = tracks.copy()\n",
    "events = interactions.copy()"
   ]
  },
  {
   "cell_type": "code",
   "execution_count": 21,
   "id": "2dc98c8e",
   "metadata": {},
   "outputs": [],
   "source": [
    "items.rename(columns={\"track_id\": \"item_id\"}, inplace=True)\n",
    "events.rename(columns={\"track_id\": \"item_id\"}, inplace=True)"
   ]
  },
  {
   "cell_type": "code",
   "execution_count": 23,
   "id": "726d3471",
   "metadata": {},
   "outputs": [],
   "source": [
    "# перекодируем item_id\n",
    "item_encoder = LabelEncoder()\n",
    "item_encoder.fit(items[\"item_id\"])\n",
    "items[\"item_id_enc\"] = item_encoder.transform(items[\"item_id\"])\n",
    "events[\"item_id_enc\"] = item_encoder.transform(events[\"item_id\"])"
   ]
  },
  {
   "cell_type": "markdown",
   "id": "4d1be653-eed8-4fa0-a9c5-3811b080d71d",
   "metadata": {},
   "source": [
    "# Сохранение данных"
   ]
  },
  {
   "cell_type": "markdown",
   "id": "36f1314a-3af3-4faf-a0b1-3045173d1500",
   "metadata": {},
   "source": [
    "Сохраним данные в двух файлах в персональном S3-бакете по пути `recsys/data/`:\n",
    "- `items.parquet` — все данные о музыкальных треках,\n",
    "- `events.parquet` — все данные о взаимодействиях."
   ]
  },
  {
   "cell_type": "code",
   "execution_count": 23,
   "id": "29fdae0a",
   "metadata": {},
   "outputs": [],
   "source": [
    "items.to_parquet(\"items.parquet\")"
   ]
  },
  {
   "cell_type": "code",
   "execution_count": 24,
   "id": "67c8a72b",
   "metadata": {},
   "outputs": [],
   "source": [
    "events.to_parquet(\"events.parquet\")"
   ]
  },
  {
   "cell_type": "code",
   "execution_count": 25,
   "id": "b809447b",
   "metadata": {},
   "outputs": [
    {
     "name": "stdout",
     "output_type": "stream",
     "text": [
      "<code object client at 0x7f6bad413730, file \"/home/mle-user/mle-project-sprint-4-v001/env_recsys_start/lib/python3.10/site-packages/boto3/session.py\", line 235>\n",
      "<code object client at 0x7f6bad413730, file \"/home/mle-user/mle-project-sprint-4-v001/env_recsys_start/lib/python3.10/site-packages/boto3/session.py\", line 235>\n"
     ]
    }
   ],
   "source": [
    "import os\n",
    "import boto3\n",
    "from dotenv import load_dotenv\n",
    "\n",
    "load_dotenv()\n",
    "\n",
    "AWS_ACCESS_KEY_ID = os.getenv(\"AWS_ACCESS_KEY_ID\")\n",
    "AWS_SECRET_ACCESS_KEY = os.getenv(\"AWS_SECRET_ACCESS_KEY\")\n",
    "\n",
    "session = boto3.Session(\n",
    "    aws_access_key_id=AWS_ACCESS_KEY_ID,\n",
    "    aws_secret_access_key=AWS_SECRET_ACCESS_KEY,\n",
    "    region_name=\"ru-central1\"\n",
    ")\n",
    "\n",
    "print(session.client.__code__)\n",
    "\n",
    "s3_client = session.client(\n",
    "    service_name='s3',\n",
    "    endpoint_url='https://storage.yandexcloud.net'\n",
    ")\n",
    "\n",
    "print(session.client.__code__)\n"
   ]
  },
  {
   "cell_type": "code",
   "execution_count": 3,
   "id": "9f77af17-7705-4fae-9aad-db579b39faad",
   "metadata": {},
   "outputs": [],
   "source": [
    "load_dotenv()\n",
    "\n",
    "AWS_ACCESS_KEY_ID = os.getenv(\"AWS_ACCESS_KEY_ID\")\n",
    "AWS_SECRET_ACCESS_KEY = os.getenv(\"AWS_SECRET_ACCESS_KEY\")\n",
    "bucket_name = os.getenv(\"S3_BUCKET_NAME\")\n",
    "url = 'https://storage.yandexcloud.net'\n",
    "\n",
    "session = boto3.Session(\n",
    "    aws_access_key_id=AWS_ACCESS_KEY_ID,\n",
    "    aws_secret_access_key=AWS_SECRET_ACCESS_KEY,\n",
    "    region_name=\"us-east-1\",\n",
    ")\n",
    "\n",
    "s3_client = session.client(\n",
    "    service_name='s3',\n",
    "    endpoint_url=url   \n",
    ")"
   ]
  },
  {
   "cell_type": "code",
   "execution_count": 27,
   "id": "06d88670",
   "metadata": {},
   "outputs": [],
   "source": [
    "s3_client.upload_file(Filename='items.parquet', Bucket=bucket_name, Key='recsys/data/items.parquet')"
   ]
  },
  {
   "cell_type": "code",
   "execution_count": null,
   "id": "5b6324ee",
   "metadata": {},
   "outputs": [],
   "source": [
    "s3_client.upload_file(Filename='events.parquet', Bucket=bucket_name, Key='recsys/data/events.parquet')"
   ]
  },
  {
   "cell_type": "markdown",
   "id": "72ecbbed-c560-44d9-9c14-86c7dc76f399",
   "metadata": {},
   "source": [
    "# Очистка памяти"
   ]
  },
  {
   "cell_type": "markdown",
   "id": "b5358ede-ba6e-4c4f-bd73-5b9344f0ba79",
   "metadata": {},
   "source": [
    "Здесь, может понадобится очистка памяти для высвобождения ресурсов для выполнения кода ниже. \n",
    "\n",
    "Приведите соответствующие код, комментарии, например:\n",
    "- код для удаление более ненужных переменных,\n",
    "- комментарий, что следует перезапустить kernel, выполнить такие-то начальные секции и продолжить с этапа 3."
   ]
  },
  {
   "cell_type": "markdown",
   "id": "708503df-ee89-4cf3-8489-093dc478e2a8",
   "metadata": {},
   "source": [
    "# === ЭТАП 3 ==="
   ]
  },
  {
   "cell_type": "markdown",
   "id": "fd77de22-e10f-4b42-85c1-8fb6f805fe68",
   "metadata": {},
   "source": [
    "# Загрузка данных"
   ]
  },
  {
   "cell_type": "markdown",
   "id": "780a4241-1ecd-4a3e-bbb3-fc2f6ca94f68",
   "metadata": {},
   "source": [
    "Если необходимо, то загружаем items.parquet, events.parquet."
   ]
  },
  {
   "cell_type": "code",
   "execution_count": 9,
   "id": "f19fc8a5-bd2c-40d7-864a-ee75aca6d512",
   "metadata": {},
   "outputs": [],
   "source": [
    "load_dotenv()\n",
    "\n",
    "AWS_ACCESS_KEY_ID = os.getenv(\"AWS_ACCESS_KEY_ID\")\n",
    "AWS_SECRET_ACCESS_KEY = os.getenv(\"AWS_SECRET_ACCESS_KEY\")\n",
    "bucket_name = os.getenv(\"S3_BUCKET_NAME\")\n",
    "url = 'https://storage.yandexcloud.net'\n",
    "\n",
    "session = boto3.Session(\n",
    "    aws_access_key_id=AWS_ACCESS_KEY_ID,\n",
    "    aws_secret_access_key=AWS_SECRET_ACCESS_KEY,\n",
    "    region_name=\"ru-central1\",\n",
    ")\n",
    "\n",
    "s3_client = session.client(\n",
    "    service_name='s3',\n",
    "    endpoint_url=url   \n",
    ")"
   ]
  },
  {
   "cell_type": "code",
   "execution_count": 4,
   "id": "5db1e801-5845-4ce3-86f2-c2fa30f68cc5",
   "metadata": {},
   "outputs": [],
   "source": [
    "s3_client.download_file(Bucket=bucket_name, Key='recsys/data/items.parquet', Filename=\"items.parquet\")"
   ]
  },
  {
   "cell_type": "code",
   "execution_count": 5,
   "id": "ca4e622a",
   "metadata": {},
   "outputs": [],
   "source": [
    "s3_client.download_file(Bucket=bucket_name, Key='recsys/data/events.parquet', Filename=\"events.parquet\")"
   ]
  },
  {
   "cell_type": "code",
   "execution_count": 3,
   "id": "28ed930b",
   "metadata": {},
   "outputs": [],
   "source": [
    "items = pd.read_parquet(\"items.parquet\")"
   ]
  },
  {
   "cell_type": "code",
   "execution_count": 9,
   "id": "b05cdab0",
   "metadata": {},
   "outputs": [],
   "source": [
    "# items = pd.read_parquet(\"items.parquet\")\n",
    "events = pd.read_parquet(\"events.parquet\")"
   ]
  },
  {
   "cell_type": "markdown",
   "id": "a694c023-6477-490b-939d-1cfa6f5f1b72",
   "metadata": {},
   "source": [
    "# Разбиение данных"
   ]
  },
  {
   "cell_type": "markdown",
   "id": "fbd5f6e0-54e7-4428-8678-eabce505d82c",
   "metadata": {},
   "source": [
    "Разбиваем данные на тренировочную, тестовую выборки."
   ]
  },
  {
   "cell_type": "code",
   "execution_count": 10,
   "id": "00c2dfa5-d8a2-47d1-922e-6eefee2c62d1",
   "metadata": {},
   "outputs": [
    {
     "name": "stdout",
     "output_type": "stream",
     "text": [
      "1294970 995485 917234\n"
     ]
    }
   ],
   "source": [
    "# зададим точку разбиения\n",
    "train_test_global_time_split_date = pd.to_datetime(\"2022-12-01\")\n",
    "\n",
    "train_test_global_time_split_idx = events[\"started_at\"] < train_test_global_time_split_date\n",
    "events_train = events[train_test_global_time_split_idx]\n",
    "events_test = events[~train_test_global_time_split_idx]\n",
    "\n",
    "# количество пользователей в train и test\n",
    "users_train = events_train[\"user_id\"].drop_duplicates()\n",
    "users_test = events_test[\"user_id\"].drop_duplicates()\n",
    "# количество пользователей, которые есть и в train, и в test\n",
    "common_users = set(users_train) & set(users_test)\n",
    "\n",
    "print(len(users_train), len(users_test), len(common_users)) "
   ]
  },
  {
   "cell_type": "code",
   "execution_count": 7,
   "id": "9039bbc5",
   "metadata": {},
   "outputs": [
    {
     "name": "stdout",
     "output_type": "stream",
     "text": [
      "78251\n"
     ]
    }
   ],
   "source": [
    "cold_users = users_test[~users_test.isin(users_train)]\n",
    "\n",
    "print(len(cold_users))"
   ]
  },
  {
   "cell_type": "markdown",
   "id": "9131c7e6-8852-4556-b510-51f7253cc299",
   "metadata": {},
   "source": [
    "# Топ популярных"
   ]
  },
  {
   "cell_type": "markdown",
   "id": "dd70d43a-88cc-4719-b291-feaed7136f30",
   "metadata": {},
   "source": [
    "Рассчитаем рекомендации как топ популярных."
   ]
  },
  {
   "cell_type": "code",
   "execution_count": 11,
   "id": "ee45e200-b7d6-4f56-9077-aad431689b96",
   "metadata": {},
   "outputs": [
    {
     "data": {
      "text/plain": [
       "0     Blinding Lights\n",
       "1              Юность\n",
       "2           Rampampam\n",
       "3              Птичка\n",
       "4          In The End\n",
       "           ...       \n",
       "95               STAY\n",
       "96                X.O\n",
       "97              Пушка\n",
       "98            Свобода\n",
       "99           По кайфу\n",
       "Name: name, Length: 100, dtype: object"
      ]
     },
     "execution_count": 11,
     "metadata": {},
     "output_type": "execute_result"
    }
   ],
   "source": [
    "top_pop_start_date = pd.to_datetime(\"2022-11-01\") # популярные за последний месяц\n",
    "\n",
    "# рассчитываем количество пользователей прослушавших каждый трек и отсортируем\n",
    "tracks_top = events_train \\\n",
    "    .query(\"started_at >= @top_pop_start_date\") \\\n",
    "    .groupby(\"item_id\").agg(plays=(\"user_id\", 'count')).reset_index() \\\n",
    "    .sort_values(\"plays\", ascending=False)\n",
    "\n",
    "# возьмем топ 100 и добавим к датасету данные о треке\n",
    "top_100_tracks = items.loc[items[\"item_id\"].isin(tracks_top[\"item_id\"].head(100))] \\\n",
    "    .merge(tracks_top, on=\"item_id\") \\\n",
    "    .sort_values(\"plays\", ascending=False).reset_index(drop=True)\n",
    "    \n",
    "top_100_tracks[\"name\"]"
   ]
  },
  {
   "cell_type": "code",
   "execution_count": 12,
   "id": "6d9e920f",
   "metadata": {},
   "outputs": [],
   "source": [
    "top_100_tracks.to_parquet(\"top_popular.parquet\")"
   ]
  },
  {
   "cell_type": "code",
   "execution_count": 13,
   "id": "6a78bf48",
   "metadata": {},
   "outputs": [],
   "source": [
    "s3_client.upload_file(Filename='top_popular.parquet', Bucket=bucket_name, Key='recsys/recommendations/top_popular.parquet')"
   ]
  },
  {
   "cell_type": "markdown",
   "id": "2ad231f2-6158-421a-b7fa-01d8bc3ed572",
   "metadata": {},
   "source": [
    "# Персональные"
   ]
  },
  {
   "cell_type": "markdown",
   "id": "86159460-cd9d-4b63-8248-604ea3c9aebf",
   "metadata": {},
   "source": [
    "Рассчитаем персональные рекомендации."
   ]
  },
  {
   "cell_type": "code",
   "execution_count": 16,
   "id": "d2944822-569c-4f9b-82dc-70a7fa2d542e",
   "metadata": {},
   "outputs": [],
   "source": [
    "# создаём sparse-матрицу формата CSR для экономии памяти\n",
    "user_item_matrix_train = scipy.sparse.csr_matrix((\n",
    "    events_train[\"track_seq\"],\n",
    "    (events_train['user_id'], events_train['item_id_enc'])),\n",
    "    dtype=np.int8) "
   ]
  },
  {
   "cell_type": "markdown",
   "id": "8bc9a7bf",
   "metadata": {},
   "source": [
    "Обучаем ALS-модель на построенной матрице"
   ]
  },
  {
   "cell_type": "code",
   "execution_count": 17,
   "id": "1e8cdb58-3a8c-45ad-8e5f-7f950314aa56",
   "metadata": {},
   "outputs": [
    {
     "name": "stderr",
     "output_type": "stream",
     "text": [
      "/home/mle-user/mle-project-sprint-4-v001/env_recsys_start/lib/python3.10/site-packages/implicit/cpu/als.py:95: RuntimeWarning: OpenBLAS is configured to use 4 threads. It is highly recommended to disable its internal threadpool by setting the environment variable 'OPENBLAS_NUM_THREADS=1' or by calling 'threadpoolctl.threadpool_limits(1, \"blas\")'. Having OpenBLAS use a threadpool can lead to severe performance issues here.\n",
      "  check_blas_config()\n",
      "100%|██████████| 10/10 [05:23<00:00, 32.33s/it]\n"
     ]
    }
   ],
   "source": [
    "als_model = AlternatingLeastSquares(factors=10, iterations=10, regularization=0.05, random_state=0)\n",
    "als_model.fit(user_item_matrix_train)"
   ]
  },
  {
   "cell_type": "code",
   "execution_count": 18,
   "id": "63d09b6b",
   "metadata": {},
   "outputs": [
    {
     "data": {
      "text/html": [
       "<style>#sk-container-id-1 {color: black;}#sk-container-id-1 pre{padding: 0;}#sk-container-id-1 div.sk-toggleable {background-color: white;}#sk-container-id-1 label.sk-toggleable__label {cursor: pointer;display: block;width: 100%;margin-bottom: 0;padding: 0.3em;box-sizing: border-box;text-align: center;}#sk-container-id-1 label.sk-toggleable__label-arrow:before {content: \"▸\";float: left;margin-right: 0.25em;color: #696969;}#sk-container-id-1 label.sk-toggleable__label-arrow:hover:before {color: black;}#sk-container-id-1 div.sk-estimator:hover label.sk-toggleable__label-arrow:before {color: black;}#sk-container-id-1 div.sk-toggleable__content {max-height: 0;max-width: 0;overflow: hidden;text-align: left;background-color: #f0f8ff;}#sk-container-id-1 div.sk-toggleable__content pre {margin: 0.2em;color: black;border-radius: 0.25em;background-color: #f0f8ff;}#sk-container-id-1 input.sk-toggleable__control:checked~div.sk-toggleable__content {max-height: 200px;max-width: 100%;overflow: auto;}#sk-container-id-1 input.sk-toggleable__control:checked~label.sk-toggleable__label-arrow:before {content: \"▾\";}#sk-container-id-1 div.sk-estimator input.sk-toggleable__control:checked~label.sk-toggleable__label {background-color: #d4ebff;}#sk-container-id-1 div.sk-label input.sk-toggleable__control:checked~label.sk-toggleable__label {background-color: #d4ebff;}#sk-container-id-1 input.sk-hidden--visually {border: 0;clip: rect(1px 1px 1px 1px);clip: rect(1px, 1px, 1px, 1px);height: 1px;margin: -1px;overflow: hidden;padding: 0;position: absolute;width: 1px;}#sk-container-id-1 div.sk-estimator {font-family: monospace;background-color: #f0f8ff;border: 1px dotted black;border-radius: 0.25em;box-sizing: border-box;margin-bottom: 0.5em;}#sk-container-id-1 div.sk-estimator:hover {background-color: #d4ebff;}#sk-container-id-1 div.sk-parallel-item::after {content: \"\";width: 100%;border-bottom: 1px solid gray;flex-grow: 1;}#sk-container-id-1 div.sk-label:hover label.sk-toggleable__label {background-color: #d4ebff;}#sk-container-id-1 div.sk-serial::before {content: \"\";position: absolute;border-left: 1px solid gray;box-sizing: border-box;top: 0;bottom: 0;left: 50%;z-index: 0;}#sk-container-id-1 div.sk-serial {display: flex;flex-direction: column;align-items: center;background-color: white;padding-right: 0.2em;padding-left: 0.2em;position: relative;}#sk-container-id-1 div.sk-item {position: relative;z-index: 1;}#sk-container-id-1 div.sk-parallel {display: flex;align-items: stretch;justify-content: center;background-color: white;position: relative;}#sk-container-id-1 div.sk-item::before, #sk-container-id-1 div.sk-parallel-item::before {content: \"\";position: absolute;border-left: 1px solid gray;box-sizing: border-box;top: 0;bottom: 0;left: 50%;z-index: -1;}#sk-container-id-1 div.sk-parallel-item {display: flex;flex-direction: column;z-index: 1;position: relative;background-color: white;}#sk-container-id-1 div.sk-parallel-item:first-child::after {align-self: flex-end;width: 50%;}#sk-container-id-1 div.sk-parallel-item:last-child::after {align-self: flex-start;width: 50%;}#sk-container-id-1 div.sk-parallel-item:only-child::after {width: 0;}#sk-container-id-1 div.sk-dashed-wrapped {border: 1px dashed gray;margin: 0 0.4em 0.5em 0.4em;box-sizing: border-box;padding-bottom: 0.4em;background-color: white;}#sk-container-id-1 div.sk-label label {font-family: monospace;font-weight: bold;display: inline-block;line-height: 1.2em;}#sk-container-id-1 div.sk-label-container {text-align: center;}#sk-container-id-1 div.sk-container {/* jupyter's `normalize.less` sets `[hidden] { display: none; }` but bootstrap.min.css set `[hidden] { display: none !important; }` so we also need the `!important` here to be able to override the default hidden behavior on the sphinx rendered scikit-learn.org. See: https://github.com/scikit-learn/scikit-learn/issues/21755 */display: inline-block !important;position: relative;}#sk-container-id-1 div.sk-text-repr-fallback {display: none;}</style><div id=\"sk-container-id-1\" class=\"sk-top-container\"><div class=\"sk-text-repr-fallback\"><pre>LabelEncoder()</pre><b>In a Jupyter environment, please rerun this cell to show the HTML representation or trust the notebook. <br />On GitHub, the HTML representation is unable to render, please try loading this page with nbviewer.org.</b></div><div class=\"sk-container\" hidden><div class=\"sk-item\"><div class=\"sk-estimator sk-toggleable\"><input class=\"sk-toggleable__control sk-hidden--visually\" id=\"sk-estimator-id-1\" type=\"checkbox\" checked><label for=\"sk-estimator-id-1\" class=\"sk-toggleable__label sk-toggleable__label-arrow\">LabelEncoder</label><div class=\"sk-toggleable__content\"><pre>LabelEncoder()</pre></div></div></div></div></div>"
      ],
      "text/plain": [
       "LabelEncoder()"
      ]
     },
     "execution_count": 18,
     "metadata": {},
     "output_type": "execute_result"
    }
   ],
   "source": [
    "# повторно определим кодировщик для обратного перекодирования рекоммендаций\n",
    "item_encoder = LabelEncoder()\n",
    "item_encoder.fit(items[\"item_id\"])"
   ]
  },
  {
   "cell_type": "code",
   "execution_count": 19,
   "id": "700a040b",
   "metadata": {},
   "outputs": [],
   "source": [
    "def get_recommendations_als(user_item_matrix, model, user_id, include_seen=True, n=5):\n",
    "    \"\"\"\n",
    "    Возвращает отранжированные рекомендации для заданного пользователя\n",
    "    \"\"\"\n",
    "    recommendations = model.recommend(\n",
    "         user_id, \n",
    "         user_item_matrix[user_id], \n",
    "         filter_already_liked_items=not include_seen,\n",
    "         N=n)\n",
    "    recommendations = pd.DataFrame({\"item_id_enc\": recommendations[0], \"score\": recommendations[1]})\n",
    "    recommendations[\"item_id\"] = item_encoder.inverse_transform(recommendations[\"item_id_enc\"])\n",
    "    \n",
    "    return recommendations"
   ]
  },
  {
   "cell_type": "code",
   "execution_count": 20,
   "id": "d77667ec",
   "metadata": {},
   "outputs": [],
   "source": [
    "# определим матрицу для тестирования\n",
    "user_item_matrix_test = scipy.sparse.csr_matrix((\n",
    "    events_test[\"track_seq\"],\n",
    "    (events_test['user_id'], events_test['item_id_enc'])),\n",
    "    dtype=np.int8) "
   ]
  },
  {
   "cell_type": "code",
   "execution_count": 21,
   "id": "696ee087",
   "metadata": {},
   "outputs": [
    {
     "data": {
      "text/html": [
       "<div>\n",
       "<style scoped>\n",
       "    .dataframe tbody tr th:only-of-type {\n",
       "        vertical-align: middle;\n",
       "    }\n",
       "\n",
       "    .dataframe tbody tr th {\n",
       "        vertical-align: top;\n",
       "    }\n",
       "\n",
       "    .dataframe thead th {\n",
       "        text-align: right;\n",
       "    }\n",
       "</style>\n",
       "<table border=\"1\" class=\"dataframe\">\n",
       "  <thead>\n",
       "    <tr style=\"text-align: right;\">\n",
       "      <th></th>\n",
       "      <th>item_id_enc</th>\n",
       "      <th>score</th>\n",
       "      <th>item_id</th>\n",
       "    </tr>\n",
       "  </thead>\n",
       "  <tbody>\n",
       "    <tr>\n",
       "      <th>0</th>\n",
       "      <td>9098</td>\n",
       "      <td>0.771684</td>\n",
       "      <td>53404</td>\n",
       "    </tr>\n",
       "    <tr>\n",
       "      <th>1</th>\n",
       "      <td>23706</td>\n",
       "      <td>0.749681</td>\n",
       "      <td>148345</td>\n",
       "    </tr>\n",
       "    <tr>\n",
       "      <th>2</th>\n",
       "      <td>29336</td>\n",
       "      <td>0.740149</td>\n",
       "      <td>214489</td>\n",
       "    </tr>\n",
       "    <tr>\n",
       "      <th>3</th>\n",
       "      <td>15643</td>\n",
       "      <td>0.727186</td>\n",
       "      <td>96089</td>\n",
       "    </tr>\n",
       "    <tr>\n",
       "      <th>4</th>\n",
       "      <td>26232</td>\n",
       "      <td>0.719002</td>\n",
       "      <td>170051</td>\n",
       "    </tr>\n",
       "  </tbody>\n",
       "</table>\n",
       "</div>"
      ],
      "text/plain": [
       "   item_id_enc     score  item_id\n",
       "0         9098  0.771684    53404\n",
       "1        23706  0.749681   148345\n",
       "2        29336  0.740149   214489\n",
       "3        15643  0.727186    96089\n",
       "4        26232  0.719002   170051"
      ]
     },
     "execution_count": 21,
     "metadata": {},
     "output_type": "execute_result"
    }
   ],
   "source": [
    "get_recommendations_als(user_item_matrix_test, als_model, 4, include_seen=True)"
   ]
  },
  {
   "cell_type": "code",
   "execution_count": 22,
   "id": "e1084099",
   "metadata": {},
   "outputs": [],
   "source": [
    "# получаем список всех возможных user_id из events_train\n",
    "user_ids = events_train[\"user_id\"].unique()\n",
    "\n",
    "# получаем рекомендации для всех пользователей\n",
    "als_recommendations = als_model.recommend(\n",
    "    user_ids, \n",
    "    user_item_matrix_train[user_ids], \n",
    "    filter_already_liked_items=True, N=5)"
   ]
  },
  {
   "cell_type": "code",
   "execution_count": 23,
   "id": "2da7cdc2",
   "metadata": {},
   "outputs": [],
   "source": [
    "# преобразуем полученные рекомендации в табличный формат\n",
    "item_ids_enc = als_recommendations[0]\n",
    "als_scores = als_recommendations[1]\n",
    "\n",
    "als_recommendations = pd.DataFrame({\n",
    "    \"user_id\": user_ids,\n",
    "    \"item_id_enc\": item_ids_enc.tolist(), \n",
    "    \"score\": als_scores.tolist()})\n",
    "als_recommendations = als_recommendations.explode([\"item_id_enc\", \"score\"], ignore_index=True)\n",
    "\n",
    "# приводим типы данных\n",
    "als_recommendations[\"item_id_enc\"] = als_recommendations[\"item_id_enc\"].astype(\"int\")\n",
    "als_recommendations[\"score\"] = als_recommendations[\"score\"].astype(\"float\")"
   ]
  },
  {
   "cell_type": "code",
   "execution_count": 24,
   "id": "965b6bd1",
   "metadata": {},
   "outputs": [],
   "source": [
    "# получаем изначальные идентификаторы\n",
    "als_recommendations[\"item_id\"] = item_encoder.inverse_transform(als_recommendations[\"item_id_enc\"])\n",
    "als_recommendations = als_recommendations.drop(columns=\"item_id_enc\")"
   ]
  },
  {
   "cell_type": "code",
   "execution_count": 25,
   "id": "b4c0e110",
   "metadata": {},
   "outputs": [],
   "source": [
    "als_recommendations.to_parquet(\"personal_als.parquet\")"
   ]
  },
  {
   "cell_type": "code",
   "execution_count": 26,
   "id": "eaa23b51",
   "metadata": {},
   "outputs": [],
   "source": [
    "s3_client.upload_file(Filename=\"personal_als.parquet\", Bucket=bucket_name, Key='recsys/recommendations/personal_als.parquet')"
   ]
  },
  {
   "cell_type": "markdown",
   "id": "5f09dc7e-7c91-4355-860a-b9cfb9f33f15",
   "metadata": {},
   "source": [
    "# Похожие"
   ]
  },
  {
   "cell_type": "markdown",
   "id": "1dfcb683-b440-40a8-9975-894156a53872",
   "metadata": {},
   "source": [
    "Рассчитаем похожие, они позже пригодятся для онлайн-рекомендаций."
   ]
  },
  {
   "cell_type": "code",
   "execution_count": 27,
   "id": "a75d07ee-4b12-4ce5-aa85-e45cb7a7a4f0",
   "metadata": {},
   "outputs": [],
   "source": [
    "# получим перекодированные идентификаторы всех объектов, известных нам из events_train\n",
    "train_item_ids_enc = events_train['item_id_enc'].unique()\n",
    "\n",
    "max_similar_items = 5\n",
    "\n",
    "# получаем списки похожих объектов, используя ранее полученную ALS-модель\n",
    "# метод similar_items возвращает и сам объект, как наиболее похожий\n",
    "# этот объект мы позже отфильтруем, но сейчас запросим на 1 больше\n",
    "similar_items = als_model.similar_items(train_item_ids_enc, N=max_similar_items+1)\n",
    "\n",
    "# преобразуем полученные списки в табличный формат\n",
    "sim_item_item_ids_enc = similar_items[0]\n",
    "sim_item_scores = similar_items[1]\n",
    "\n",
    "similar_items = pd.DataFrame({\n",
    "    \"item_id_enc\": train_item_ids_enc,\n",
    "    \"sim_item_id_enc\": sim_item_item_ids_enc.tolist(), \n",
    "    \"score\": sim_item_scores.tolist()\n",
    "})\n",
    "similar_items = similar_items.explode([\"sim_item_id_enc\", \"score\"], ignore_index=True)\n",
    "\n",
    "# приводим типы данных\n",
    "similar_items[\"sim_item_id_enc\"] = similar_items[\"sim_item_id_enc\"].astype(\"int\")\n",
    "similar_items[\"score\"] = similar_items[\"score\"].astype(\"float\")\n",
    "\n",
    "# получаем изначальные идентификаторы\n",
    "similar_items[\"item_id_1\"] = item_encoder.inverse_transform(similar_items[\"item_id_enc\"])\n",
    "similar_items[\"item_id_2\"] = item_encoder.inverse_transform(similar_items[\"sim_item_id_enc\"])\n",
    "similar_items = similar_items.drop(columns=[\"item_id_enc\", \"sim_item_id_enc\"])\n",
    "\n",
    "# убираем пары с одинаковыми объектами\n",
    "similar_items = similar_items.query(\"item_id_1 != item_id_2\") "
   ]
  },
  {
   "cell_type": "code",
   "execution_count": 28,
   "id": "ce370904-4c49-4152-8706-416074ea9b9a",
   "metadata": {},
   "outputs": [],
   "source": [
    "similar_items.to_parquet(\"similar.parquet\")"
   ]
  },
  {
   "cell_type": "code",
   "execution_count": 29,
   "id": "5de62083",
   "metadata": {},
   "outputs": [],
   "source": [
    "s3_client.upload_file(Filename=\"similar.parquet\", Bucket=bucket_name, Key='recsys/recommendations/similar.parquet')"
   ]
  },
  {
   "cell_type": "markdown",
   "id": "0087a3e7-ca9f-42cd-944c-944222c1baef",
   "metadata": {},
   "source": [
    "# Построение признаков"
   ]
  },
  {
   "cell_type": "markdown",
   "id": "e82a32e1-b90b-4eaf-9439-fc8deab9f34b",
   "metadata": {},
   "source": [
    "Построим три признака, можно больше, для ранжирующей модели."
   ]
  },
  {
   "cell_type": "code",
   "execution_count": 15,
   "id": "05b4ae84-406a-44a4-abec-4f80f93e3004",
   "metadata": {},
   "outputs": [],
   "source": [
    "def get_user_features(event):\n",
    "    \n",
    "    \"\"\" считает пользовательские признаки \"\"\"\n",
    "    \n",
    "    user_features = event.groupby(\"user_id\").agg(\n",
    "        listening_period=(\"started_at\", lambda x: (x.max()-x.min()).days),\n",
    "        tracks_listened=(\"item_id\", \"count\")\n",
    "    )\n",
    "    \n",
    "    user_features[\"tracks_per_month\"] = user_features[\"tracks_listened\"] / (user_features[\"listening_period\"] / 30)\n",
    "    \n",
    "    return user_features"
   ]
  },
  {
   "cell_type": "code",
   "execution_count": null,
   "id": "df05aa76",
   "metadata": {},
   "outputs": [],
   "source": [
    "#### "
   ]
  },
  {
   "cell_type": "code",
   "execution_count": 34,
   "id": "00f84c35-f544-4c3d-ad53-9b1d2b684c75",
   "metadata": {},
   "outputs": [
    {
     "data": {
      "text/html": [
       "<div>\n",
       "<style scoped>\n",
       "    .dataframe tbody tr th:only-of-type {\n",
       "        vertical-align: middle;\n",
       "    }\n",
       "\n",
       "    .dataframe tbody tr th {\n",
       "        vertical-align: top;\n",
       "    }\n",
       "\n",
       "    .dataframe thead th {\n",
       "        text-align: right;\n",
       "    }\n",
       "</style>\n",
       "<table border=\"1\" class=\"dataframe\">\n",
       "  <thead>\n",
       "    <tr style=\"text-align: right;\">\n",
       "      <th></th>\n",
       "      <th>listening_period</th>\n",
       "      <th>tracks_listened</th>\n",
       "      <th>tracks_per_month</th>\n",
       "    </tr>\n",
       "    <tr>\n",
       "      <th>user_id</th>\n",
       "      <th></th>\n",
       "      <th></th>\n",
       "      <th></th>\n",
       "    </tr>\n",
       "  </thead>\n",
       "  <tbody>\n",
       "    <tr>\n",
       "      <th>0</th>\n",
       "      <td>13</td>\n",
       "      <td>9</td>\n",
       "      <td>20.769231</td>\n",
       "    </tr>\n",
       "    <tr>\n",
       "      <th>3</th>\n",
       "      <td>51</td>\n",
       "      <td>9</td>\n",
       "      <td>5.294118</td>\n",
       "    </tr>\n",
       "    <tr>\n",
       "      <th>4</th>\n",
       "      <td>85</td>\n",
       "      <td>93</td>\n",
       "      <td>32.823529</td>\n",
       "    </tr>\n",
       "    <tr>\n",
       "      <th>5</th>\n",
       "      <td>87</td>\n",
       "      <td>35</td>\n",
       "      <td>12.068966</td>\n",
       "    </tr>\n",
       "    <tr>\n",
       "      <th>6</th>\n",
       "      <td>41</td>\n",
       "      <td>13</td>\n",
       "      <td>9.512195</td>\n",
       "    </tr>\n",
       "    <tr>\n",
       "      <th>...</th>\n",
       "      <td>...</td>\n",
       "      <td>...</td>\n",
       "      <td>...</td>\n",
       "    </tr>\n",
       "    <tr>\n",
       "      <th>1374578</th>\n",
       "      <td>66</td>\n",
       "      <td>4</td>\n",
       "      <td>1.818182</td>\n",
       "    </tr>\n",
       "    <tr>\n",
       "      <th>1374579</th>\n",
       "      <td>48</td>\n",
       "      <td>21</td>\n",
       "      <td>13.125000</td>\n",
       "    </tr>\n",
       "    <tr>\n",
       "      <th>1374580</th>\n",
       "      <td>33</td>\n",
       "      <td>40</td>\n",
       "      <td>36.363636</td>\n",
       "    </tr>\n",
       "    <tr>\n",
       "      <th>1374581</th>\n",
       "      <td>88</td>\n",
       "      <td>183</td>\n",
       "      <td>62.386364</td>\n",
       "    </tr>\n",
       "    <tr>\n",
       "      <th>1374582</th>\n",
       "      <td>23</td>\n",
       "      <td>132</td>\n",
       "      <td>172.173913</td>\n",
       "    </tr>\n",
       "  </tbody>\n",
       "</table>\n",
       "<p>1234007 rows × 3 columns</p>\n",
       "</div>"
      ],
      "text/plain": [
       "         listening_period  tracks_listened  tracks_per_month\n",
       "user_id                                                     \n",
       "0                      13                9         20.769231\n",
       "3                      51                9          5.294118\n",
       "4                      85               93         32.823529\n",
       "5                      87               35         12.068966\n",
       "6                      41               13          9.512195\n",
       "...                   ...              ...               ...\n",
       "1374578                66                4          1.818182\n",
       "1374579                48               21         13.125000\n",
       "1374580                33               40         36.363636\n",
       "1374581                88              183         62.386364\n",
       "1374582                23              132        172.173913\n",
       "\n",
       "[1234007 rows x 3 columns]"
      ]
     },
     "execution_count": 34,
     "metadata": {},
     "output_type": "execute_result"
    }
   ],
   "source": [
    "user_features_for_train = get_user_features(events_train)\n",
    "user_features_for_train"
   ]
  },
  {
   "cell_type": "markdown",
   "id": "47bcf88d-b236-46f0-a6f3-38ddd64895fe",
   "metadata": {},
   "source": [
    "# Ранжирование рекомендаций"
   ]
  },
  {
   "cell_type": "markdown",
   "id": "e8cd8223-3418-4493-8c87-1f76286ebda0",
   "metadata": {},
   "source": [
    "Построим ранжирующую модель, чтобы сделать рекомендации более точными. Отранжируем рекомендации."
   ]
  },
  {
   "cell_type": "code",
   "execution_count": 6,
   "id": "79f1dd92-32a9-463d-827e-8bb9ee5bbb54",
   "metadata": {},
   "outputs": [],
   "source": [
    "# задаём точку разбиения\n",
    "split_date_for_labels = pd.to_datetime(\"2022-12-15\")\n",
    "\n",
    "split_date_for_labels_idx = events_test[\"started_at\"] < split_date_for_labels\n",
    "events_labels = events_test[split_date_for_labels_idx].copy()\n",
    "events_test_2 = events_test[~split_date_for_labels_idx].copy()"
   ]
  },
  {
   "cell_type": "code",
   "execution_count": 36,
   "id": "6dbe4db4-1ac5-44da-a13c-8e7f9768ab73",
   "metadata": {},
   "outputs": [],
   "source": [
    "# загружаем рекомендации от базового генератора\n",
    "als_recommendations = pd.read_parquet(\"personal_als.parquet\")"
   ]
  },
  {
   "cell_type": "code",
   "execution_count": 37,
   "id": "ef7c5768",
   "metadata": {},
   "outputs": [],
   "source": [
    "# добавляем сгенерированные признаки в датасет\n",
    "candidates = pd.merge(\n",
    "    als_recommendations[[\"user_id\", \"item_id\", \"score\"]].rename(columns={\"score\": \"als_score\"}),\n",
    "    user_features_for_train,\n",
    "    on=\"user_id\",\n",
    "    how=\"left\")"
   ]
  },
  {
   "cell_type": "code",
   "execution_count": 38,
   "id": "a4775775",
   "metadata": {},
   "outputs": [
    {
     "data": {
      "text/html": [
       "<div>\n",
       "<style scoped>\n",
       "    .dataframe tbody tr th:only-of-type {\n",
       "        vertical-align: middle;\n",
       "    }\n",
       "\n",
       "    .dataframe tbody tr th {\n",
       "        vertical-align: top;\n",
       "    }\n",
       "\n",
       "    .dataframe thead th {\n",
       "        text-align: right;\n",
       "    }\n",
       "</style>\n",
       "<table border=\"1\" class=\"dataframe\">\n",
       "  <thead>\n",
       "    <tr style=\"text-align: right;\">\n",
       "      <th></th>\n",
       "      <th>user_id</th>\n",
       "      <th>item_id</th>\n",
       "      <th>als_score</th>\n",
       "      <th>listening_period</th>\n",
       "      <th>tracks_listened</th>\n",
       "      <th>tracks_per_month</th>\n",
       "    </tr>\n",
       "  </thead>\n",
       "  <tbody>\n",
       "    <tr>\n",
       "      <th>0</th>\n",
       "      <td>0</td>\n",
       "      <td>17352611</td>\n",
       "      <td>0.057886</td>\n",
       "      <td>13.0</td>\n",
       "      <td>9.0</td>\n",
       "      <td>20.769231</td>\n",
       "    </tr>\n",
       "    <tr>\n",
       "      <th>1</th>\n",
       "      <td>0</td>\n",
       "      <td>16549426</td>\n",
       "      <td>0.056918</td>\n",
       "      <td>13.0</td>\n",
       "      <td>9.0</td>\n",
       "      <td>20.769231</td>\n",
       "    </tr>\n",
       "    <tr>\n",
       "      <th>2</th>\n",
       "      <td>0</td>\n",
       "      <td>14690772</td>\n",
       "      <td>0.056086</td>\n",
       "      <td>13.0</td>\n",
       "      <td>9.0</td>\n",
       "      <td>20.769231</td>\n",
       "    </tr>\n",
       "    <tr>\n",
       "      <th>3</th>\n",
       "      <td>0</td>\n",
       "      <td>17902234</td>\n",
       "      <td>0.055668</td>\n",
       "      <td>13.0</td>\n",
       "      <td>9.0</td>\n",
       "      <td>20.769231</td>\n",
       "    </tr>\n",
       "    <tr>\n",
       "      <th>4</th>\n",
       "      <td>0</td>\n",
       "      <td>14701552</td>\n",
       "      <td>0.055187</td>\n",
       "      <td>13.0</td>\n",
       "      <td>9.0</td>\n",
       "      <td>20.769231</td>\n",
       "    </tr>\n",
       "    <tr>\n",
       "      <th>...</th>\n",
       "      <td>...</td>\n",
       "      <td>...</td>\n",
       "      <td>...</td>\n",
       "      <td>...</td>\n",
       "      <td>...</td>\n",
       "      <td>...</td>\n",
       "    </tr>\n",
       "    <tr>\n",
       "      <th>6474845</th>\n",
       "      <td>1374582</td>\n",
       "      <td>49961817</td>\n",
       "      <td>1.276944</td>\n",
       "      <td>23.0</td>\n",
       "      <td>132.0</td>\n",
       "      <td>172.173913</td>\n",
       "    </tr>\n",
       "    <tr>\n",
       "      <th>6474846</th>\n",
       "      <td>1374582</td>\n",
       "      <td>50834580</td>\n",
       "      <td>1.249963</td>\n",
       "      <td>23.0</td>\n",
       "      <td>132.0</td>\n",
       "      <td>172.173913</td>\n",
       "    </tr>\n",
       "    <tr>\n",
       "      <th>6474847</th>\n",
       "      <td>1374582</td>\n",
       "      <td>50821247</td>\n",
       "      <td>1.225635</td>\n",
       "      <td>23.0</td>\n",
       "      <td>132.0</td>\n",
       "      <td>172.173913</td>\n",
       "    </tr>\n",
       "    <tr>\n",
       "      <th>6474848</th>\n",
       "      <td>1374582</td>\n",
       "      <td>52380688</td>\n",
       "      <td>1.201966</td>\n",
       "      <td>23.0</td>\n",
       "      <td>132.0</td>\n",
       "      <td>172.173913</td>\n",
       "    </tr>\n",
       "    <tr>\n",
       "      <th>6474849</th>\n",
       "      <td>1374582</td>\n",
       "      <td>51241318</td>\n",
       "      <td>1.191518</td>\n",
       "      <td>23.0</td>\n",
       "      <td>132.0</td>\n",
       "      <td>172.173913</td>\n",
       "    </tr>\n",
       "  </tbody>\n",
       "</table>\n",
       "<p>6474850 rows × 6 columns</p>\n",
       "</div>"
      ],
      "text/plain": [
       "         user_id   item_id  als_score  listening_period  tracks_listened  \\\n",
       "0              0  17352611   0.057886              13.0              9.0   \n",
       "1              0  16549426   0.056918              13.0              9.0   \n",
       "2              0  14690772   0.056086              13.0              9.0   \n",
       "3              0  17902234   0.055668              13.0              9.0   \n",
       "4              0  14701552   0.055187              13.0              9.0   \n",
       "...          ...       ...        ...               ...              ...   \n",
       "6474845  1374582  49961817   1.276944              23.0            132.0   \n",
       "6474846  1374582  50834580   1.249963              23.0            132.0   \n",
       "6474847  1374582  50821247   1.225635              23.0            132.0   \n",
       "6474848  1374582  52380688   1.201966              23.0            132.0   \n",
       "6474849  1374582  51241318   1.191518              23.0            132.0   \n",
       "\n",
       "         tracks_per_month  \n",
       "0               20.769231  \n",
       "1               20.769231  \n",
       "2               20.769231  \n",
       "3               20.769231  \n",
       "4               20.769231  \n",
       "...                   ...  \n",
       "6474845        172.173913  \n",
       "6474846        172.173913  \n",
       "6474847        172.173913  \n",
       "6474848        172.173913  \n",
       "6474849        172.173913  \n",
       "\n",
       "[6474850 rows x 6 columns]"
      ]
     },
     "execution_count": 38,
     "metadata": {},
     "output_type": "execute_result"
    }
   ],
   "source": [
    "candidates"
   ]
  },
  {
   "cell_type": "code",
   "execution_count": 39,
   "id": "9b51b40b",
   "metadata": {},
   "outputs": [],
   "source": [
    "# добавляем таргет к кандидатам со значением:\n",
    "# — 1 для тех item_id, которые пользователь прочитал\n",
    "# — 0, для всех остальных \n",
    "\n",
    "events_labels[\"target\"] = 1\n",
    "candidates = candidates.merge(events_labels[[\"user_id\", \"item_id\", \"target\"]], \n",
    "                              on=[\"user_id\", \"item_id\"], how=\"left\")\n",
    "candidates[\"target\"] = candidates[\"target\"].fillna(0).astype(\"int\")\n",
    "\n",
    "# в кандидатах оставляем только тех пользователей, у которых есть хотя бы один положительный таргет\n",
    "candidates_for_train = candidates.groupby(\"user_id\").filter(lambda x: x[\"target\"].sum() > 0)"
   ]
  },
  {
   "cell_type": "code",
   "execution_count": 40,
   "id": "a2296d1b",
   "metadata": {},
   "outputs": [
    {
     "name": "stdout",
     "output_type": "stream",
     "text": [
      "0:\tlearn: 0.6655546\ttotal: 71.7ms\tremaining: 1m 11s\n",
      "100:\tlearn: 0.5518617\ttotal: 613ms\tremaining: 5.46s\n",
      "200:\tlearn: 0.5475402\ttotal: 1.18s\tremaining: 4.67s\n",
      "300:\tlearn: 0.5442335\ttotal: 1.74s\tremaining: 4.03s\n",
      "400:\tlearn: 0.5409500\ttotal: 2.3s\tremaining: 3.44s\n",
      "500:\tlearn: 0.5381167\ttotal: 2.88s\tremaining: 2.87s\n",
      "600:\tlearn: 0.5358886\ttotal: 3.45s\tremaining: 2.29s\n",
      "700:\tlearn: 0.5334614\ttotal: 4.02s\tremaining: 1.72s\n",
      "800:\tlearn: 0.5311135\ttotal: 4.61s\tremaining: 1.14s\n",
      "900:\tlearn: 0.5289545\ttotal: 5.18s\tremaining: 569ms\n",
      "999:\tlearn: 0.5269131\ttotal: 5.74s\tremaining: 0us\n"
     ]
    },
    {
     "data": {
      "text/plain": [
       "<catboost.core.CatBoostClassifier at 0x7fd76c532aa0>"
      ]
     },
     "execution_count": 40,
     "metadata": {},
     "output_type": "execute_result"
    }
   ],
   "source": [
    "# задаём имена колонок признаков и таргета\n",
    "features = ['als_score', 'listening_period', 'tracks_listened', 'tracks_per_month']\n",
    "target = 'target'\n",
    "\n",
    "# создаем Pool object\n",
    "train_data = Pool(\n",
    "    data=candidates_for_train[features], \n",
    "    label=candidates_for_train[target])\n",
    "\n",
    "# инициализируем модель CatBoostClassifier\n",
    "cb_model = CatBoostClassifier(\n",
    "    iterations=1000,\n",
    "    learning_rate=0.1,\n",
    "    depth=6,\n",
    "    loss_function='Logloss',\n",
    "    verbose=100,\n",
    "    random_seed=0\n",
    ")\n",
    "\n",
    "# тренируем модель\n",
    "cb_model.fit(train_data)"
   ]
  },
  {
   "cell_type": "code",
   "execution_count": 10,
   "id": "e46c2d21",
   "metadata": {},
   "outputs": [],
   "source": [
    "# составим актуальные рекоммендации на основе последних трех месяцев, для уменьшения нагрузки на систему\n",
    "inference_global_time_split_date = pd.to_datetime(\"2022-09-01\")\n",
    "split_date_for_inference_idx = events_train[\"started_at\"] > inference_global_time_split_date\n",
    "events_train = events_train[split_date_for_inference_idx].copy()"
   ]
  },
  {
   "cell_type": "code",
   "execution_count": 11,
   "id": "75669c05",
   "metadata": {},
   "outputs": [],
   "source": [
    "events_train.to_parquet('events_train___.parquet')\n",
    "events_labels.to_parquet('events_labels___.parquet')\n",
    "\n",
    "inference_global_time_split_date = pd.to_datetime(\"2022-09-01\")"
   ]
  },
  {
   "cell_type": "code",
   "execution_count": 23,
   "id": "db978924",
   "metadata": {},
   "outputs": [],
   "source": [
    "events_train = pd.read_parquet('events_train___.parquet')\n",
    "events_labels = pd.read_parquet('events_labels___.parquet')"
   ]
  },
  {
   "cell_type": "code",
   "execution_count": 24,
   "id": "75350ea0",
   "metadata": {},
   "outputs": [],
   "source": [
    "events_inference = pd.concat([events_train, events_labels])"
   ]
  },
  {
   "cell_type": "code",
   "execution_count": 13,
   "id": "55768e59",
   "metadata": {},
   "outputs": [],
   "source": [
    "# оставим только тех пользователей, что есть в тесте, для экономии ресурсов\n",
    "events_inference = events_inference[events_inference[\"user_id\"].isin(events_test_2[\"user_id\"])]"
   ]
  },
  {
   "cell_type": "code",
   "execution_count": 16,
   "id": "d565c5e6",
   "metadata": {},
   "outputs": [],
   "source": [
    "user_features_for_ranking = get_user_features(events_inference)"
   ]
  },
  {
   "cell_type": "code",
   "execution_count": 17,
   "id": "9fb3c8ae",
   "metadata": {},
   "outputs": [],
   "source": [
    "user_features_for_ranking.to_parquet(\"user_features_rank.parquet\")"
   ]
  },
  {
   "cell_type": "markdown",
   "id": "229b6256",
   "metadata": {},
   "source": [
    "Обучаем ALS модель на данных для инференса"
   ]
  },
  {
   "cell_type": "code",
   "execution_count": 18,
   "id": "10ab6d97",
   "metadata": {},
   "outputs": [],
   "source": [
    "user_item_matrix_inference = scipy.sparse.csr_matrix((\n",
    "    events_inference[\"track_seq\"],\n",
    "    (events_inference['user_id'], events_inference['item_id_enc'])),\n",
    "    dtype=np.int8)"
   ]
  },
  {
   "cell_type": "code",
   "execution_count": 19,
   "id": "f8fbafa9",
   "metadata": {},
   "outputs": [
    {
     "name": "stderr",
     "output_type": "stream",
     "text": [
      "/home/mle-user/mle-project-sprint-4-v001/env_recsys_start/lib/python3.10/site-packages/implicit/cpu/als.py:95: RuntimeWarning: OpenBLAS is configured to use 4 threads. It is highly recommended to disable its internal threadpool by setting the environment variable 'OPENBLAS_NUM_THREADS=1' or by calling 'threadpoolctl.threadpool_limits(1, \"blas\")'. Having OpenBLAS use a threadpool can lead to severe performance issues here.\n",
      "  check_blas_config()\n",
      "100%|██████████| 10/10 [02:07<00:00, 12.78s/it]\n"
     ]
    }
   ],
   "source": [
    "als_model = AlternatingLeastSquares(factors=10, iterations=10, regularization=0.05, random_state=0)\n",
    "als_model.fit(user_item_matrix_inference)"
   ]
  },
  {
   "cell_type": "code",
   "execution_count": null,
   "id": "abd822de",
   "metadata": {},
   "outputs": [
    {
     "ename": "NameError",
     "evalue": "name 'item_encoder' is not defined",
     "output_type": "error",
     "traceback": [
      "\u001b[0;31m---------------------------------------------------------------------------\u001b[0m",
      "\u001b[0;31mNameError\u001b[0m                                 Traceback (most recent call last)",
      "Cell \u001b[0;32mIn[20], line 23\u001b[0m\n\u001b[1;32m     20\u001b[0m als_recommendations_inference[\u001b[38;5;124m\"\u001b[39m\u001b[38;5;124mscore\u001b[39m\u001b[38;5;124m\"\u001b[39m] \u001b[38;5;241m=\u001b[39m als_recommendations_inference[\u001b[38;5;124m\"\u001b[39m\u001b[38;5;124mscore\u001b[39m\u001b[38;5;124m\"\u001b[39m]\u001b[38;5;241m.\u001b[39mastype(\u001b[38;5;124m\"\u001b[39m\u001b[38;5;124mfloat\u001b[39m\u001b[38;5;124m\"\u001b[39m)\n\u001b[1;32m     22\u001b[0m \u001b[38;5;66;03m# получаем изначальные идентификаторы\u001b[39;00m\n\u001b[0;32m---> 23\u001b[0m als_recommendations_inference[\u001b[38;5;124m\"\u001b[39m\u001b[38;5;124mitem_id\u001b[39m\u001b[38;5;124m\"\u001b[39m] \u001b[38;5;241m=\u001b[39m \u001b[43mitem_encoder\u001b[49m\u001b[38;5;241m.\u001b[39minverse_transform(als_recommendations_inference[\u001b[38;5;124m\"\u001b[39m\u001b[38;5;124mitem_id_enc\u001b[39m\u001b[38;5;124m\"\u001b[39m])\n\u001b[1;32m     24\u001b[0m als_recommendations_inference \u001b[38;5;241m=\u001b[39m als_recommendations_inference\u001b[38;5;241m.\u001b[39mdrop(columns\u001b[38;5;241m=\u001b[39m\u001b[38;5;124m\"\u001b[39m\u001b[38;5;124mitem_id_enc\u001b[39m\u001b[38;5;124m\"\u001b[39m)\n\u001b[1;32m     26\u001b[0m als_recommendations_inference\u001b[38;5;241m.\u001b[39mto_parquet(\u001b[38;5;124m\"\u001b[39m\u001b[38;5;124mpersonal_als_inference.parquet\u001b[39m\u001b[38;5;124m\"\u001b[39m)\n",
      "\u001b[0;31mNameError\u001b[0m: name 'item_encoder' is not defined"
     ]
    }
   ],
   "source": [
    "user_ids = events_inference[\"user_id\"].unique()\n",
    "\n",
    "als_recommendations_inference = als_model.recommend(\n",
    "    user_ids, \n",
    "    user_item_matrix_inference[user_ids], \n",
    "    filter_already_liked_items=True, N=5)\n",
    "\n",
    "# преобразуем полученные рекомендации в табличный формат\n",
    "item_ids_enc = als_recommendations_inference[0]\n",
    "als_scores = als_recommendations_inference[1]\n",
    "\n",
    "als_recommendations_inference = pd.DataFrame({\n",
    "    \"user_id\": user_ids,\n",
    "    \"item_id_enc\": item_ids_enc.tolist(), \n",
    "    \"score\": als_scores.tolist()})\n",
    "als_recommendations_inference = als_recommendations_inference.explode([\"item_id_enc\", \"score\"], ignore_index=True)\n",
    "\n",
    "# приводим типы данных\n",
    "als_recommendations_inference[\"item_id_enc\"] = als_recommendations_inference[\"item_id_enc\"].astype(\"int\")\n",
    "als_recommendations_inference[\"score\"] = als_recommendations_inference[\"score\"].astype(\"float\")"
   ]
  },
  {
   "cell_type": "code",
   "execution_count": 24,
   "id": "df2792ee",
   "metadata": {},
   "outputs": [],
   "source": [
    "# получаем изначальные идентификаторы\n",
    "als_recommendations_inference[\"item_id\"] = item_encoder.inverse_transform(als_recommendations_inference[\"item_id_enc\"])\n",
    "als_recommendations_inference = als_recommendations_inference.drop(columns=\"item_id_enc\")\n",
    "\n",
    "als_recommendations_inference.to_parquet(\"personal_als_inference.parquet\")"
   ]
  },
  {
   "cell_type": "code",
   "execution_count": 25,
   "id": "8be06dc7",
   "metadata": {},
   "outputs": [],
   "source": [
    "s3_client.upload_file(Filename=\"personal_als_inference.parquet\", Bucket=bucket_name, Key='recsys/recommendations/personal_als_inference.parquet')"
   ]
  },
  {
   "cell_type": "code",
   "execution_count": 26,
   "id": "e1739f19",
   "metadata": {},
   "outputs": [],
   "source": [
    "# восстановим данные\n",
    "als_recommendations_inference = pd.read_parquet(\"personal_als_inference.parquet\")\n",
    "user_features_for_ranking = pd.read_parquet(\"user_features_rank.parquet\")"
   ]
  },
  {
   "cell_type": "code",
   "execution_count": 27,
   "id": "163b5c05",
   "metadata": {},
   "outputs": [],
   "source": [
    "candidates_to_rank = pd.merge(\n",
    "    als_recommendations_inference[[\"user_id\", \"item_id\", \"score\"]].rename(columns={\"score\": \"als_score\"}),\n",
    "    user_features_for_ranking,\n",
    "    on=\"user_id\",\n",
    "    how=\"left\"\n",
    ")"
   ]
  },
  {
   "cell_type": "code",
   "execution_count": 29,
   "id": "cfb5ecf2",
   "metadata": {},
   "outputs": [],
   "source": [
    "features = ['als_score', 'listening_period', 'tracks_listened', 'tracks_per_month']"
   ]
  },
  {
   "cell_type": "code",
   "execution_count": 41,
   "id": "123c89a7",
   "metadata": {},
   "outputs": [],
   "source": [
    "inference_data = Pool(data=candidates_to_rank[features])\n",
    "predictions = cb_model.predict_proba(inference_data)\n",
    "\n",
    "candidates_to_rank[\"cb_score\"] = predictions[:, 1]\n",
    "\n",
    "# для каждого пользователя проставляем rank, начиная с 1 — это максимальный cb_score\n",
    "candidates_to_rank = candidates_to_rank.sort_values([\"user_id\", \"cb_score\"], ascending=[True, False])\n",
    "candidates_to_rank[\"rank\"] = candidates_to_rank.groupby(\"user_id\").cumcount() + 1\n",
    "\n",
    "max_recommendations_per_user = 5\n",
    "final_recommendations = candidates_to_rank.groupby(\"user_id\").head(max_recommendations_per_user)"
   ]
  },
  {
   "cell_type": "code",
   "execution_count": 42,
   "id": "2e5a3fd7",
   "metadata": {},
   "outputs": [],
   "source": [
    "final_recommendations.to_parquet(\"recommendations.parquet\")"
   ]
  },
  {
   "cell_type": "code",
   "execution_count": 43,
   "id": "958a40f0",
   "metadata": {},
   "outputs": [],
   "source": [
    "s3_client.upload_file(Filename=\"recommendations.parquet\", Bucket=bucket_name, Key='recsys/recommendations/recommendations.parquet')"
   ]
  },
  {
   "cell_type": "markdown",
   "id": "b3c84071-45b5-4a15-a683-e0ab034a3128",
   "metadata": {},
   "source": [
    "# Оценка качества"
   ]
  },
  {
   "cell_type": "markdown",
   "id": "1b107fe4-554e-42b1-87d9-c435a52bb77a",
   "metadata": {},
   "source": [
    "Проверим оценку качества трёх типов рекомендаций: \n",
    "\n",
    "- топ популярных,\n",
    "- персональных, полученных при помощи ALS,\n",
    "- итоговых\n",
    "  \n",
    "по четырем метрикам: recall, precision, coverage, novelty."
   ]
  },
  {
   "cell_type": "code",
   "execution_count": 11,
   "id": "94d6f388-aecb-443e-8647-14014e932d4d",
   "metadata": {},
   "outputs": [],
   "source": [
    "top_pop = pd.read_parquet(\"top_popular.parquet\")"
   ]
  },
  {
   "cell_type": "code",
   "execution_count": 12,
   "id": "26df411f-14c1-4848-8797-f37afe449cc6",
   "metadata": {},
   "outputs": [],
   "source": [
    "als_recommendations = pd.read_parquet(\"personal_als.parquet\")"
   ]
  },
  {
   "cell_type": "code",
   "execution_count": 13,
   "id": "ba29d10a",
   "metadata": {},
   "outputs": [],
   "source": [
    "final_recommendations = pd.read_parquet(\"recommendations.parquet\")"
   ]
  },
  {
   "cell_type": "code",
   "execution_count": 14,
   "id": "14a007b7",
   "metadata": {},
   "outputs": [],
   "source": [
    "def process_events_recs_for_binary_metrics(events_train, events_test, recs, top_k=None):\n",
    "\n",
    "    \"\"\"\n",
    "    размечает пары <user_id, item_id> для общего множества пользователей признаками\n",
    "    - gt (ground truth) - треки прослушанные пользователем\n",
    "    - pr (prediction) - рекомендации\n",
    "    top_k: расчёт ведётся только для top k-рекомендаций\n",
    "    \"\"\"\n",
    "\n",
    "    events_test[\"gt\"] = True\n",
    "    common_users = set(events_test[\"user_id\"]) & set(recs[\"user_id\"])\n",
    "\n",
    "    print(f\"Common users: {len(common_users)}\")\n",
    "    \n",
    "    events_for_common_users = events_test[events_test[\"user_id\"].isin(common_users)].copy()\n",
    "    recs_for_common_users = recs[recs[\"user_id\"].isin(common_users)].copy()\n",
    "\n",
    "    recs_for_common_users = recs_for_common_users.sort_values([\"user_id\", \"score\"], ascending=[True, False])\n",
    "\n",
    "    # оставляет только те item_id, которые были в events_train, \n",
    "    # т. к. модель не имела никакой возможности давать рекомендации для новых айтемов\n",
    "    events_for_common_users = events_for_common_users[events_for_common_users[\"item_id\"].isin(events_train[\"item_id\"].unique())]\n",
    "\n",
    "    if top_k is not None:\n",
    "        recs_for_common_users = recs_for_common_users.groupby(\"user_id\").head(top_k)\n",
    "    \n",
    "    events_recs_common = events_for_common_users[[\"user_id\", \"item_id\", \"gt\"]].merge(\n",
    "        recs_for_common_users[[\"user_id\", \"item_id\", \"score\"]], \n",
    "        on=[\"user_id\", \"item_id\"], how=\"outer\")    \n",
    "\n",
    "    events_recs_common[\"gt\"] = events_recs_common[\"gt\"].fillna(False)\n",
    "    events_recs_common[\"pr\"] = ~events_recs_common[\"score\"].isnull()\n",
    "    \n",
    "    events_recs_common[\"tp\"] = events_recs_common[\"gt\"] & events_recs_common[\"pr\"]\n",
    "    events_recs_common[\"fp\"] = ~events_recs_common[\"gt\"] & events_recs_common[\"pr\"]\n",
    "    events_recs_common[\"fn\"] = events_recs_common[\"gt\"] & ~events_recs_common[\"pr\"]\n",
    "\n",
    "    return events_recs_common"
   ]
  },
  {
   "cell_type": "code",
   "execution_count": 15,
   "id": "da836cd2",
   "metadata": {},
   "outputs": [],
   "source": [
    "def compute_cls_metrics(events_recs_for_binary_metric):\n",
    "    \n",
    "    groupper = events_recs_for_binary_metric.groupby(\"user_id\")\n",
    "\n",
    "    # precision = tp / (tp + fp)\n",
    "    precision = groupper[\"tp\"].sum()/(groupper[\"tp\"].sum()+groupper[\"fp\"].sum())\n",
    "    precision = precision.fillna(0).mean()\n",
    "    \n",
    "    # recall = tp / (tp + fn)\n",
    "    recall = groupper[\"tp\"].sum()/(groupper[\"tp\"].sum()+groupper[\"fn\"].sum())\n",
    "    recall = recall.fillna(0).mean()\n",
    "\n",
    "    return precision, recall "
   ]
  },
  {
   "cell_type": "code",
   "execution_count": 16,
   "id": "73c0e1bb",
   "metadata": {},
   "outputs": [
    {
     "ename": "",
     "evalue": "",
     "output_type": "error",
     "traceback": [
      "\u001b[1;31mThe Kernel crashed while executing code in the current cell or a previous cell. \n",
      "\u001b[1;31mPlease review the code in the cell(s) to identify a possible cause of the failure. \n",
      "\u001b[1;31mClick <a href='https://aka.ms/vscodeJupyterKernelCrash'>here</a> for more info. \n",
      "\u001b[1;31mView Jupyter <a href='command:jupyter.viewOutput'>log</a> for further details."
     ]
    }
   ],
   "source": [
    "# подготовим данные для рассчета в функциях\n",
    "top_pop = top_pop.merge(events_train[[\"user_id\", \"item_id\"]], on=\"item_id\", how='left')"
   ]
  },
  {
   "cell_type": "code",
   "execution_count": null,
   "id": "6823ed51",
   "metadata": {},
   "outputs": [],
   "source": [
    "top_pop.rename(columns={\"plays\": \"score\"}, inplace=True)"
   ]
  },
  {
   "cell_type": "code",
   "execution_count": null,
   "id": "f09b29ea",
   "metadata": {},
   "outputs": [
    {
     "name": "stderr",
     "output_type": "stream",
     "text": [
      "/tmp/ipykernel_4443/4129093500.py:10: SettingWithCopyWarning: \n",
      "A value is trying to be set on a copy of a slice from a DataFrame.\n",
      "Try using .loc[row_indexer,col_indexer] = value instead\n",
      "\n",
      "See the caveats in the documentation: https://pandas.pydata.org/pandas-docs/stable/user_guide/indexing.html#returning-a-view-versus-a-copy\n",
      "  events_test[\"gt\"] = True\n"
     ]
    },
    {
     "name": "stdout",
     "output_type": "stream",
     "text": [
      "Common users: 461893\n"
     ]
    }
   ],
   "source": [
    "top_recs_for_binary_metrics = process_events_recs_for_binary_metrics(\n",
    "  events_train,\n",
    "    events_test, \n",
    "    top_pop, \n",
    "    top_k=5)"
   ]
  },
  {
   "cell_type": "code",
   "execution_count": null,
   "id": "c8e8c186",
   "metadata": {},
   "outputs": [],
   "source": [
    "top_precision, top_recall = compute_cls_metrics(top_recs_for_binary_metrics)"
   ]
  },
  {
   "cell_type": "code",
   "execution_count": null,
   "id": "1783ab77",
   "metadata": {},
   "outputs": [],
   "source": [
    "cov_items_top = top_pop[\"item_id\"].nunique()/items[\"item_id\"].nunique()"
   ]
  },
  {
   "cell_type": "markdown",
   "id": "db5100e6",
   "metadata": {},
   "source": [
    "Рассчитаем метрики для ALS-модели"
   ]
  },
  {
   "cell_type": "code",
   "execution_count": null,
   "id": "fd5338c2",
   "metadata": {},
   "outputs": [],
   "source": [
    "als_recs_for_binary_metrics = process_events_recs_for_binary_metrics(\n",
    "  events_train,\n",
    "    events_test, \n",
    "    als_recommendations, \n",
    "    top_k=5)"
   ]
  },
  {
   "cell_type": "code",
   "execution_count": 18,
   "id": "9577394a",
   "metadata": {},
   "outputs": [],
   "source": [
    "als_precision, als_recall = compute_cls_metrics(als_recs_for_binary_metrics)\n",
    "cov_items_als = als_recommendations[\"item_id\"].nunique()/items[\"item_id\"].nunique()"
   ]
  },
  {
   "cell_type": "code",
   "execution_count": 19,
   "id": "edfd213c",
   "metadata": {},
   "outputs": [],
   "source": [
    "# Рассчитаем метрики для финальной модели\n",
    "final_recommendations.rename(columns={\"cb_score\": \"score\"}, inplace=True)"
   ]
  },
  {
   "cell_type": "code",
   "execution_count": 28,
   "id": "d9be9623",
   "metadata": {},
   "outputs": [
    {
     "name": "stdout",
     "output_type": "stream",
     "text": [
      "Common users: 768558\n"
     ]
    }
   ],
   "source": [
    "fin_recs_for_binary_metrics = process_events_recs_for_binary_metrics(\n",
    "  events_inference,\n",
    "    events_test_2, \n",
    "    final_recommendations, \n",
    "    top_k=5)"
   ]
  },
  {
   "cell_type": "code",
   "execution_count": 29,
   "id": "18ea1824",
   "metadata": {},
   "outputs": [],
   "source": [
    "fin_precision, fin_recall = compute_cls_metrics(fin_recs_for_binary_metrics)"
   ]
  },
  {
   "cell_type": "code",
   "execution_count": 30,
   "id": "c0280de1",
   "metadata": {},
   "outputs": [],
   "source": [
    "cov_items_fin = final_recommendations[\"item_id\"].nunique()/items[\"item_id\"].nunique()"
   ]
  },
  {
   "cell_type": "markdown",
   "id": "8239faa5",
   "metadata": {},
   "source": [
    "Поскольку рассчет рекомендаций производился только для айтемов, с которыми пользователь ранее не взаимодействовал (флаг - \"filter_already_liked_items=True\") для экономии ресурсов - то оценка рекомендаций по новизне неинформативна"
   ]
  },
  {
   "cell_type": "code",
   "execution_count": 31,
   "id": "9b62a436",
   "metadata": {},
   "outputs": [
    {
     "ename": "",
     "evalue": "",
     "output_type": "error",
     "traceback": [
      "\u001b[1;31mThe Kernel crashed while executing code in the current cell or a previous cell. \n",
      "\u001b[1;31mPlease review the code in the cell(s) to identify a possible cause of the failure. \n",
      "\u001b[1;31mClick <a href='https://aka.ms/vscodeJupyterKernelCrash'>here</a> for more info. \n",
      "\u001b[1;31mView Jupyter <a href='command:jupyter.viewOutput'>log</a> for further details."
     ]
    }
   ],
   "source": [
    "# разметим каждую рекомендацию признаком listen\n",
    "events_train[\"listen\"] = True\n",
    "als_recommendations = als_recommendations.merge(events_train[[\"listen\", \"user_id\", \"item_id\"]], on=[\"user_id\", \"item_id\"], how=\"left\")\n",
    "als_recommendations[\"listen\"] = als_recommendations[\"listen\"].fillna(False).astype(\"bool\")\n",
    "\n",
    "# проставим ранги\n",
    "als_recommendations = als_recommendations.sort_values(\"score\", ascending=False)\n",
    "als_recommendations[\"listen\"] = als_recommendations.groupby(\"user_id\").cumcount() + 1\n",
    "\n",
    "# посчитаем novelty по пользователям\n",
    "novelty_5_als = (1-als_recommendations.query(\"rank <= 5\").groupby(\"user_id\")[\"listen\"].mean())\n",
    "\n",
    "# посчитаем средний novelty\n",
    "novelty_5_als.mean()"
   ]
  },
  {
   "cell_type": "markdown",
   "id": "f1c8d38c-32b0-46a4-96f0-cd01dac708bc",
   "metadata": {},
   "source": [
    "# === Выводы, метрики ==="
   ]
  },
  {
   "cell_type": "markdown",
   "id": "f7d7d5d8-7d1e-4fdf-a6cd-83e5ce92c684",
   "metadata": {},
   "source": [
    "Основные выводы при работе над расчётом рекомендаций, рассчитанные метрики."
   ]
  },
  {
   "cell_type": "markdown",
   "id": "44a78db4",
   "metadata": {},
   "source": [
    "Метрики рекомендаций популярного:\n",
    "- precision: 0.0;\n",
    "- recall: 0.0;\n",
    "- coverage: 0.0001"
   ]
  },
  {
   "cell_type": "markdown",
   "id": "f6f1665d",
   "metadata": {},
   "source": [
    "Метрики ALS-рекомендаций:\n",
    "- precision: 0.003;\n",
    "- recall: 0.002;\n",
    "- coverage: 0.003"
   ]
  },
  {
   "cell_type": "markdown",
   "id": "ca11f813",
   "metadata": {},
   "source": [
    "Метрики финальной модели ранжирования:\n",
    "- precision: 0.0024;\n",
    "- recall: 0.0025;\n",
    "- coverage: 0.0022"
   ]
  },
  {
   "cell_type": "markdown",
   "id": "dc794eae",
   "metadata": {},
   "source": [
    "## Выводы\n",
    "- Треки прослушанные пользователем за последний месяц не совпали с топом популярных (построенном на основе ноябрьских прослушиваний).\n",
    "- Метрики ALS-рекомендаций немногим выше метрик финальной модели - это, вероятно, связано с тем, что для инференса была взята лишь часть данных из \"events_train\".\n",
    "- Метрики в целом имеют не очень высокие показатели - это, в свою очередь, связано с тем, что для рекомендаций отбирался лишь топ 5 треков (для ускорения рассчетов). <br>Для рассчета большего числа рекомендаций на пользователя требуются бОльшие мощности, либо уменьшение тренировочной выборки (скажем - рекоммендации за последнии 30 дней), как это было сделано с финальной моделью."
   ]
  },
  {
   "cell_type": "markdown",
   "id": "6ba2a4cf",
   "metadata": {},
   "source": []
  }
 ],
 "metadata": {
  "kernelspec": {
   "display_name": "env_recsys_start",
   "language": "python",
   "name": "python3"
  },
  "language_info": {
   "codemirror_mode": {
    "name": "ipython",
    "version": 3
   },
   "file_extension": ".py",
   "mimetype": "text/x-python",
   "name": "python",
   "nbconvert_exporter": "python",
   "pygments_lexer": "ipython3",
   "version": "3.10.12"
  }
 },
 "nbformat": 4,
 "nbformat_minor": 5
}
